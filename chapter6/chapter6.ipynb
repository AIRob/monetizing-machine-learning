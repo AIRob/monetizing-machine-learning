{
 "cells": [
  {
   "cell_type": "markdown",
   "metadata": {},
   "source": [
    "# Using Google Maps: Where will Crime Happen Next in San Francisco? Let's Predict and Map It on Google Cloud\n",
    "\n",
    "Note: you can install the requirements file for this notebook if you want to install all the libraries at once. Open a new terminal window, navigate to the folder with the \"requirements_jupyter.txt\" and run the following command:\n",
    "\n",
    "***pip3 install -r requirements_jupyter.txt***"
   ]
  },
  {
   "cell_type": "code",
   "execution_count": 1,
   "metadata": {},
   "outputs": [],
   "source": [
    "import numpy as np \n",
    "import pandas as pd \n",
    "import datetime\n",
    "import urllib\n",
    "import matplotlib.pyplot as plt"
   ]
  },
  {
   "cell_type": "markdown",
   "metadata": {},
   "source": [
    "# SF Crime Heat Map\n",
    "### https://data.sfgov.org/Public-Safety/SF-Crime-Heat-Map/q6gg-sa2p/data"
   ]
  },
  {
   "cell_type": "code",
   "execution_count": 2,
   "metadata": {},
   "outputs": [],
   "source": [
    "# Get crime data and save a local copy, the first time around, then set the\n",
    "# already_have_the_data flag to False to download the local copy as it is \n",
    "# a large file and can be very slow to download!\n",
    "already_have_the_data = False\n",
    "if not already_have_the_data:\n",
    "    # downloading directly from the internet\n",
    "    crime_df_raw = pd.read_csv('https://data.sfgov.org/api/views/q6gg-sa2p/rows.csv?accessType=DOWNLOAD')\n",
    "    crime_df_raw.to_csv('SF-Crime-Heat-Map.csv', index=False)\n",
    "else:\n",
    "    # get crime data - save a local copy as it is a lot of data\n",
    "    crime_df_raw = pd.read_csv('SF-Crime-Heat-Map.csv')"
   ]
  },
  {
   "cell_type": "code",
   "execution_count": 57,
   "metadata": {},
   "outputs": [
    {
     "data": {
      "text/html": [
       "<div>\n",
       "<style scoped>\n",
       "    .dataframe tbody tr th:only-of-type {\n",
       "        vertical-align: middle;\n",
       "    }\n",
       "\n",
       "    .dataframe tbody tr th {\n",
       "        vertical-align: top;\n",
       "    }\n",
       "\n",
       "    .dataframe thead th {\n",
       "        text-align: right;\n",
       "    }\n",
       "</style>\n",
       "<table border=\"1\" class=\"dataframe\">\n",
       "  <thead>\n",
       "    <tr style=\"text-align: right;\">\n",
       "      <th></th>\n",
       "      <th>IncidntNum</th>\n",
       "      <th>Category</th>\n",
       "      <th>Descript</th>\n",
       "      <th>DayOfWeek</th>\n",
       "      <th>Date</th>\n",
       "      <th>Time</th>\n",
       "      <th>PdDistrict</th>\n",
       "      <th>Resolution</th>\n",
       "      <th>Address</th>\n",
       "      <th>X</th>\n",
       "      <th>Y</th>\n",
       "      <th>Location</th>\n",
       "    </tr>\n",
       "  </thead>\n",
       "  <tbody>\n",
       "    <tr>\n",
       "      <th>0</th>\n",
       "      <td>150060275</td>\n",
       "      <td>NON-CRIMINAL</td>\n",
       "      <td>LOST PROPERTY</td>\n",
       "      <td>Monday</td>\n",
       "      <td>01/19/2015</td>\n",
       "      <td>14:00</td>\n",
       "      <td>MISSION</td>\n",
       "      <td>NONE</td>\n",
       "      <td>18TH ST / VALENCIA ST</td>\n",
       "      <td>-122.421582</td>\n",
       "      <td>37.761701</td>\n",
       "      <td>(37.7617007179518, -122.42158168137)</td>\n",
       "    </tr>\n",
       "    <tr>\n",
       "      <th>1</th>\n",
       "      <td>150098210</td>\n",
       "      <td>ROBBERY</td>\n",
       "      <td>ROBBERY, BODILY FORCE</td>\n",
       "      <td>Sunday</td>\n",
       "      <td>02/01/2015</td>\n",
       "      <td>15:45</td>\n",
       "      <td>TENDERLOIN</td>\n",
       "      <td>NONE</td>\n",
       "      <td>300 Block of LEAVENWORTH ST</td>\n",
       "      <td>-122.414406</td>\n",
       "      <td>37.784191</td>\n",
       "      <td>(37.7841907151119, -122.414406029855)</td>\n",
       "    </tr>\n",
       "    <tr>\n",
       "      <th>2</th>\n",
       "      <td>150098210</td>\n",
       "      <td>ASSAULT</td>\n",
       "      <td>AGGRAVATED ASSAULT WITH BODILY FORCE</td>\n",
       "      <td>Sunday</td>\n",
       "      <td>02/01/2015</td>\n",
       "      <td>15:45</td>\n",
       "      <td>TENDERLOIN</td>\n",
       "      <td>NONE</td>\n",
       "      <td>300 Block of LEAVENWORTH ST</td>\n",
       "      <td>-122.414406</td>\n",
       "      <td>37.784191</td>\n",
       "      <td>(37.7841907151119, -122.414406029855)</td>\n",
       "    </tr>\n",
       "  </tbody>\n",
       "</table>\n",
       "</div>"
      ],
      "text/plain": [
       "   IncidntNum      Category                              Descript DayOfWeek  \\\n",
       "0   150060275  NON-CRIMINAL                         LOST PROPERTY    Monday   \n",
       "1   150098210       ROBBERY                 ROBBERY, BODILY FORCE    Sunday   \n",
       "2   150098210       ASSAULT  AGGRAVATED ASSAULT WITH BODILY FORCE    Sunday   \n",
       "\n",
       "         Date   Time  PdDistrict Resolution                      Address  \\\n",
       "0  01/19/2015  14:00     MISSION       NONE        18TH ST / VALENCIA ST   \n",
       "1  02/01/2015  15:45  TENDERLOIN       NONE  300 Block of LEAVENWORTH ST   \n",
       "2  02/01/2015  15:45  TENDERLOIN       NONE  300 Block of LEAVENWORTH ST   \n",
       "\n",
       "            X          Y                               Location  \n",
       "0 -122.421582  37.761701   (37.7617007179518, -122.42158168137)  \n",
       "1 -122.414406  37.784191  (37.7841907151119, -122.414406029855)  \n",
       "2 -122.414406  37.784191  (37.7841907151119, -122.414406029855)  "
      ]
     },
     "execution_count": 57,
     "metadata": {},
     "output_type": "execute_result"
    }
   ],
   "source": [
    "crime_df_raw.head(3)"
   ]
  },
  {
   "cell_type": "code",
   "execution_count": 58,
   "metadata": {},
   "outputs": [
    {
     "data": {
      "text/plain": [
       "['IncidntNum',\n",
       " 'Category',\n",
       " 'Descript',\n",
       " 'DayOfWeek',\n",
       " 'Date',\n",
       " 'Time',\n",
       " 'PdDistrict',\n",
       " 'Resolution',\n",
       " 'Address',\n",
       " 'X',\n",
       " 'Y',\n",
       " 'Location']"
      ]
     },
     "execution_count": 58,
     "metadata": {},
     "output_type": "execute_result"
    }
   ],
   "source": [
    "crime_df = crime_df_raw.copy()\n",
    "list(crime_df)"
   ]
  },
  {
   "cell_type": "code",
   "execution_count": 59,
   "metadata": {},
   "outputs": [
    {
     "data": {
      "text/plain": [
       "(2215024, 12)"
      ]
     },
     "execution_count": 59,
     "metadata": {},
     "output_type": "execute_result"
    }
   ],
   "source": [
    "crime_df.shape"
   ]
  },
  {
   "cell_type": "code",
   "execution_count": 60,
   "metadata": {},
   "outputs": [
    {
     "name": "stdout",
     "output_type": "stream",
     "text": [
      "Max year 2018, min year 2003\n"
     ]
    }
   ],
   "source": [
    "years = [int(dte.split(\"/\")[2]) for dte in crime_df['Date']]\n",
    "print('Max year %i, min year %i' % (max(years), min(years)))"
   ]
  },
  {
   "cell_type": "markdown",
   "metadata": {},
   "source": [
    "# Dataset Cleanup\n",
    "Remove useless columns and rename X,Y to Longitude and Latitude# Dataset Cleanup\n",
    "Remove useless columns and rename X,Y to Longitude and Latitude"
   ]
  },
  {
   "cell_type": "code",
   "execution_count": 61,
   "metadata": {},
   "outputs": [
    {
     "data": {
      "text/html": [
       "<div>\n",
       "<style scoped>\n",
       "    .dataframe tbody tr th:only-of-type {\n",
       "        vertical-align: middle;\n",
       "    }\n",
       "\n",
       "    .dataframe tbody tr th {\n",
       "        vertical-align: top;\n",
       "    }\n",
       "\n",
       "    .dataframe thead th {\n",
       "        text-align: right;\n",
       "    }\n",
       "</style>\n",
       "<table border=\"1\" class=\"dataframe\">\n",
       "  <thead>\n",
       "    <tr style=\"text-align: right;\">\n",
       "      <th></th>\n",
       "      <th>Category</th>\n",
       "      <th>DayOfWeek</th>\n",
       "      <th>Date</th>\n",
       "      <th>Time</th>\n",
       "      <th>Longitude</th>\n",
       "      <th>Latitude</th>\n",
       "    </tr>\n",
       "  </thead>\n",
       "  <tbody>\n",
       "    <tr>\n",
       "      <th>0</th>\n",
       "      <td>NON-CRIMINAL</td>\n",
       "      <td>Monday</td>\n",
       "      <td>01/19/2015</td>\n",
       "      <td>14:00</td>\n",
       "      <td>-122.421582</td>\n",
       "      <td>37.761701</td>\n",
       "    </tr>\n",
       "    <tr>\n",
       "      <th>1</th>\n",
       "      <td>ROBBERY</td>\n",
       "      <td>Sunday</td>\n",
       "      <td>02/01/2015</td>\n",
       "      <td>15:45</td>\n",
       "      <td>-122.414406</td>\n",
       "      <td>37.784191</td>\n",
       "    </tr>\n",
       "    <tr>\n",
       "      <th>2</th>\n",
       "      <td>ASSAULT</td>\n",
       "      <td>Sunday</td>\n",
       "      <td>02/01/2015</td>\n",
       "      <td>15:45</td>\n",
       "      <td>-122.414406</td>\n",
       "      <td>37.784191</td>\n",
       "    </tr>\n",
       "    <tr>\n",
       "      <th>3</th>\n",
       "      <td>SECONDARY CODES</td>\n",
       "      <td>Sunday</td>\n",
       "      <td>02/01/2015</td>\n",
       "      <td>15:45</td>\n",
       "      <td>-122.414406</td>\n",
       "      <td>37.784191</td>\n",
       "    </tr>\n",
       "    <tr>\n",
       "      <th>4</th>\n",
       "      <td>VANDALISM</td>\n",
       "      <td>Tuesday</td>\n",
       "      <td>01/27/2015</td>\n",
       "      <td>19:00</td>\n",
       "      <td>-122.431119</td>\n",
       "      <td>37.800469</td>\n",
       "    </tr>\n",
       "  </tbody>\n",
       "</table>\n",
       "</div>"
      ],
      "text/plain": [
       "          Category DayOfWeek        Date   Time   Longitude   Latitude\n",
       "0     NON-CRIMINAL    Monday  01/19/2015  14:00 -122.421582  37.761701\n",
       "1          ROBBERY    Sunday  02/01/2015  15:45 -122.414406  37.784191\n",
       "2          ASSAULT    Sunday  02/01/2015  15:45 -122.414406  37.784191\n",
       "3  SECONDARY CODES    Sunday  02/01/2015  15:45 -122.414406  37.784191\n",
       "4        VANDALISM   Tuesday  01/27/2015  19:00 -122.431119  37.800469"
      ]
     },
     "execution_count": 61,
     "metadata": {},
     "output_type": "execute_result"
    }
   ],
   "source": [
    "crime_df = crime_df[['Category', 'DayOfWeek', 'Date', 'Time', 'X', 'Y']]\n",
    "\n",
    "# Rename X,Y to Longitude, Latitude\n",
    "crime_df.columns = ['Category', 'DayOfWeek', 'Date', 'Time', 'Longitude', 'Latitude']\n",
    "crime_df.head()"
   ]
  },
  {
   "cell_type": "markdown",
   "metadata": {},
   "source": [
    "# Data Exploration"
   ]
  },
  {
   "cell_type": "code",
   "execution_count": 62,
   "metadata": {},
   "outputs": [
    {
     "data": {
      "text/plain": [
       "LARCENY/THEFT                  480448\n",
       "OTHER OFFENSES                 309358\n",
       "NON-CRIMINAL                   238323\n",
       "ASSAULT                        194694\n",
       "VEHICLE THEFT                  126602\n",
       "DRUG/NARCOTIC                  119628\n",
       "VANDALISM                      116059\n",
       "WARRANTS                       101379\n",
       "BURGLARY                        91543\n",
       "SUSPICIOUS OCC                  80444\n",
       "MISSING PERSON                  64961\n",
       "ROBBERY                         55867\n",
       "FRAUD                           41542\n",
       "SECONDARY CODES                 25831\n",
       "FORGERY/COUNTERFEITING          23050\n",
       "WEAPON LAWS                     22234\n",
       "TRESPASS                        19449\n",
       "PROSTITUTION                    16701\n",
       "STOLEN PROPERTY                 11891\n",
       "SEX OFFENSES, FORCIBLE          11742\n",
       "DISORDERLY CONDUCT              10040\n",
       "DRUNKENNESS                      9826\n",
       "RECOVERED VEHICLE                8716\n",
       "DRIVING UNDER THE INFLUENCE      5672\n",
       "KIDNAPPING                       5346\n",
       "RUNAWAY                          4440\n",
       "LIQUOR LAWS                      4083\n",
       "ARSON                            3931\n",
       "EMBEZZLEMENT                     2988\n",
       "LOITERING                        2430\n",
       "SUICIDE                          1292\n",
       "FAMILY OFFENSES                  1183\n",
       "BAD CHECKS                        925\n",
       "BRIBERY                           813\n",
       "EXTORTION                         741\n",
       "SEX OFFENSES, NON FORCIBLE        431\n",
       "GAMBLING                          348\n",
       "PORNOGRAPHY/OBSCENE MAT            59\n",
       "TREA                               14\n",
       "Name: Category, dtype: int64"
      ]
     },
     "execution_count": 62,
     "metadata": {},
     "output_type": "execute_result"
    }
   ],
   "source": [
    "crime_df['Category'].value_counts() "
   ]
  },
  {
   "cell_type": "markdown",
   "metadata": {},
   "source": [
    "# Re-Balancing the Dataset\n",
    "## Fix categories and create a master category dictionary  \n",
    "Create 4 groups\n",
    "- THEFT\n",
    "- IMPAIRED\n",
    "- VIOLENCE\n",
    "- OTHER"
   ]
  },
  {
   "cell_type": "code",
   "execution_count": 63,
   "metadata": {},
   "outputs": [
    {
     "data": {
      "text/plain": [
       "THEFT       766351\n",
       "OTHER       547681\n",
       "VIOLENCE    422819\n",
       "IMPAIRED    151679\n",
       "Name: CAT, dtype: int64"
      ]
     },
     "execution_count": 63,
     "metadata": {},
     "output_type": "execute_result"
    }
   ],
   "source": [
    "# group by types\n",
    "THEFT = [\"LARCENY/THEFT\", \"VEHICLE THEFT\", \"BURGLARY\", \"ROBBERY\", \"STOLEN PROPERTY\"]\n",
    "IMPAIRED = [\"DRUNKENNESS\", \"DRIVING UNDER THE INFLUENCE\", \"LIQUOR LAWS\", \"DISORDERLY CONDUCT\", \"DRUG/NARCOTIC\", \"LOITERING\"]\n",
    "VIOLENCE = [\"ASSAULT\", \"VANDALISM\", \"SUSPICIOUS OCC\", \"TRESPASS\", \"SEX OFFENSES, FORCIBLE\" , \"SEX OFFENSES, NON FORCIBLE\"] \n",
    "OTHER = [\"OTHER OFFENSES\", \"NON-CRIMINAL\"]\n",
    "\n",
    "\n",
    "CATEGORIES = THEFT + IMPAIRED + VIOLENCE + OTHER\n",
    "crime_df = crime_df[crime_df['Category'].isin(CATEGORIES)]\n",
    "\n",
    "\n",
    "# create new super groups\n",
    "selections = [\n",
    "    (crime_df['Category'].isin(THEFT)),\n",
    "    (crime_df['Category'].isin(IMPAIRED)),\n",
    "    (crime_df['Category'].isin(VIOLENCE)),\n",
    "    (crime_df['Category'].isin(OTHER))] \n",
    "\n",
    "new_categories = ['THEFT', 'IMPAIRED', 'VIOLENCE', 'OTHER']\n",
    "crime_df['CAT'] = np.select(selections, new_categories, default='OTHER')\n",
    "crime_df['CAT'].value_counts()\n",
    " \n",
    "\n"
   ]
  },
  {
   "cell_type": "markdown",
   "metadata": {},
   "source": [
    "# Exploring By DayOfWeek"
   ]
  },
  {
   "cell_type": "code",
   "execution_count": 64,
   "metadata": {},
   "outputs": [
    {
     "data": {
      "image/png": "[encoded data removed]",
      "text/plain": [
       "<Figure size 432x288 with 1 Axes>"
      ]
     },
     "metadata": {},
     "output_type": "display_data"
    }
   ],
   "source": [
    "\n",
    "crime_df_tmp = crime_df[crime_df['CAT'] == 'THEFT']\n",
    "crime_df_tmp['DayOfWeek'].value_counts().plot(kind='bar')\n",
    "plt.suptitle('Category: THEFT')\n",
    "plt.show()"
   ]
  },
  {
   "cell_type": "code",
   "execution_count": 65,
   "metadata": {},
   "outputs": [
    {
     "data": {
      "image/png": "[encoded data removed]",
      "text/plain": [
       "<Figure size 432x288 with 1 Axes>"
      ]
     },
     "metadata": {},
     "output_type": "display_data"
    }
   ],
   "source": [
    "crime_df_tmp = crime_df[crime_df['CAT'] == 'IMPAIRED']\n",
    "crime_df_tmp['DayOfWeek'].value_counts().plot(kind='bar')\n",
    "plt.suptitle('Category: IMPAIRED')\n",
    "plt.show()"
   ]
  },
  {
   "cell_type": "code",
   "execution_count": 66,
   "metadata": {},
   "outputs": [
    {
     "data": {
      "image/png": "[encoded data removed]",
      "text/plain": [
       "<Figure size 432x288 with 1 Axes>"
      ]
     },
     "metadata": {},
     "output_type": "display_data"
    }
   ],
   "source": [
    "crime_df_tmp = crime_df[crime_df['CAT'] == 'VIOLENCE']\n",
    "crime_df_tmp['DayOfWeek'].value_counts().plot(kind='bar')\n",
    "plt.suptitle('Category: VIOLENCE')\n",
    "plt.show()"
   ]
  },
  {
   "cell_type": "code",
   "execution_count": 67,
   "metadata": {},
   "outputs": [
    {
     "data": {
      "image/png": "[encoded data removed]",
      "text/plain": [
       "<Figure size 432x288 with 1 Axes>"
      ]
     },
     "metadata": {},
     "output_type": "display_data"
    }
   ],
   "source": [
    "crime_df_tmp = crime_df[crime_df['CAT'] == 'OTHER']\n",
    "crime_df_tmp['DayOfWeek'].value_counts().plot(kind='bar')\n",
    "plt.suptitle('Category: OTHER')\n",
    "plt.show()"
   ]
  },
  {
   "cell_type": "markdown",
   "metadata": {},
   "source": [
    "# Feature Engineering"
   ]
  },
  {
   "cell_type": "markdown",
   "metadata": {},
   "source": [
    "### Day of month"
   ]
  },
  {
   "cell_type": "code",
   "execution_count": 68,
   "metadata": {},
   "outputs": [],
   "source": [
    "crime_df[\"Day_of_month\"] = [int(dte.split(\"/\")[1]) for dte in crime_df['Date']]"
   ]
  },
  {
   "cell_type": "code",
   "execution_count": 69,
   "metadata": {},
   "outputs": [],
   "source": [
    "### Month of year"
   ]
  },
  {
   "cell_type": "code",
   "execution_count": 70,
   "metadata": {},
   "outputs": [
    {
     "data": {
      "text/html": [
       "<div>\n",
       "<style scoped>\n",
       "    .dataframe tbody tr th:only-of-type {\n",
       "        vertical-align: middle;\n",
       "    }\n",
       "\n",
       "    .dataframe tbody tr th {\n",
       "        vertical-align: top;\n",
       "    }\n",
       "\n",
       "    .dataframe thead th {\n",
       "        text-align: right;\n",
       "    }\n",
       "</style>\n",
       "<table border=\"1\" class=\"dataframe\">\n",
       "  <thead>\n",
       "    <tr style=\"text-align: right;\">\n",
       "      <th></th>\n",
       "      <th>Month_of_year</th>\n",
       "    </tr>\n",
       "  </thead>\n",
       "  <tbody>\n",
       "    <tr>\n",
       "      <th>1</th>\n",
       "      <td>167666</td>\n",
       "    </tr>\n",
       "    <tr>\n",
       "      <th>2</th>\n",
       "      <td>151502</td>\n",
       "    </tr>\n",
       "    <tr>\n",
       "      <th>3</th>\n",
       "      <td>168126</td>\n",
       "    </tr>\n",
       "    <tr>\n",
       "      <th>4</th>\n",
       "      <td>161556</td>\n",
       "    </tr>\n",
       "    <tr>\n",
       "      <th>5</th>\n",
       "      <td>159885</td>\n",
       "    </tr>\n",
       "    <tr>\n",
       "      <th>6</th>\n",
       "      <td>148957</td>\n",
       "    </tr>\n",
       "    <tr>\n",
       "      <th>7</th>\n",
       "      <td>155609</td>\n",
       "    </tr>\n",
       "    <tr>\n",
       "      <th>8</th>\n",
       "      <td>160499</td>\n",
       "    </tr>\n",
       "    <tr>\n",
       "      <th>9</th>\n",
       "      <td>156831</td>\n",
       "    </tr>\n",
       "    <tr>\n",
       "      <th>10</th>\n",
       "      <td>162538</td>\n",
       "    </tr>\n",
       "    <tr>\n",
       "      <th>11</th>\n",
       "      <td>149342</td>\n",
       "    </tr>\n",
       "    <tr>\n",
       "      <th>12</th>\n",
       "      <td>146019</td>\n",
       "    </tr>\n",
       "  </tbody>\n",
       "</table>\n",
       "</div>"
      ],
      "text/plain": [
       "    Month_of_year\n",
       "1          167666\n",
       "2          151502\n",
       "3          168126\n",
       "4          161556\n",
       "5          159885\n",
       "6          148957\n",
       "7          155609\n",
       "8          160499\n",
       "9          156831\n",
       "10         162538\n",
       "11         149342\n",
       "12         146019"
      ]
     },
     "execution_count": 70,
     "metadata": {},
     "output_type": "execute_result"
    }
   ],
   "source": [
    "crime_df[\"Month_of_year\"] = [int(dte.split(\"/\")[0]) for dte in crime_df['Date']]\n",
    "crime_by_month = pd.DataFrame(crime_df[\"Month_of_year\"].value_counts())\n",
    "crime_by_month = crime_by_month.sort_index()\n",
    "crime_by_month"
   ]
  },
  {
   "cell_type": "code",
   "execution_count": 71,
   "metadata": {
    "scrolled": true
   },
   "outputs": [
    {
     "data": {
      "text/plain": [
       "1     167666\n",
       "2     151502\n",
       "3     168126\n",
       "4     161556\n",
       "5     159885\n",
       "6     148957\n",
       "7     155609\n",
       "8     160499\n",
       "9     156831\n",
       "10    162538\n",
       "11    149342\n",
       "12    146019\n",
       "Name: Month_of_year, dtype: int64"
      ]
     },
     "execution_count": 71,
     "metadata": {},
     "output_type": "execute_result"
    }
   ],
   "source": [
    "crime_by_month['Month_of_year']"
   ]
  },
  {
   "cell_type": "code",
   "execution_count": 72,
   "metadata": {},
   "outputs": [
    {
     "data": {
      "image/png": "[encoded data removed]",
      "text/plain": [
       "<Figure size 432x288 with 1 Axes>"
      ]
     },
     "metadata": {},
     "output_type": "display_data"
    }
   ],
   "source": [
    "plt.barh(crime_by_month.index, crime_by_month['Month_of_year'], align='center', alpha=0.5)\n",
    "objects = ['Jan','Feb','Mar','Apr','Ma','Jun','Jul','Aug','Sept','Oct','Nov','Dec']\n",
    "plt.yticks(crime_by_month.index, objects)\n",
    "plt.xlabel('Crime Reports')\n",
    "plt.title('Total Crime By Month')\n",
    "plt.show()"
   ]
  },
  {
   "cell_type": "code",
   "execution_count": 73,
   "metadata": {},
   "outputs": [
    {
     "data": {
      "image/png": "[encoded data removed]",
      "text/plain": [
       "<Figure size 432x288 with 1 Axes>"
      ]
     },
     "metadata": {},
     "output_type": "display_data"
    }
   ],
   "source": [
    "crime_by_month = crime_df[crime_df['CAT'] == 'VIOLENCE']\n",
    "crime_by_month = pd.DataFrame(crime_by_month[\"Month_of_year\"].value_counts())\n",
    "crime_by_month = crime_by_month.sort_index()\n",
    "plt.barh(crime_by_month.index, crime_by_month['Month_of_year'], align='center', alpha=0.5)\n",
    "objects = ['Jan','Feb','Mar','Apr','Ma','Jun','Jul','Aug','Sept','Oct','Nov','Dec']\n",
    "plt.yticks(crime_by_month.index, objects)\n",
    "plt.xlabel('Crime Reports')\n",
    "plt.title('VIOLENCE By Month')\n",
    "plt.show()\n",
    "\n",
    " "
   ]
  },
  {
   "cell_type": "code",
   "execution_count": 74,
   "metadata": {},
   "outputs": [
    {
     "data": {
      "image/png": "[encoded data removed]",
      "text/plain": [
       "<Figure size 432x288 with 1 Axes>"
      ]
     },
     "metadata": {},
     "output_type": "display_data"
    }
   ],
   "source": [
    "crime_by_month = crime_df[crime_df['CAT'] == 'IMPAIRED']\n",
    "crime_by_month = pd.DataFrame(crime_by_month[\"Month_of_year\"].value_counts())\n",
    "crime_by_month = crime_by_month.sort_index()\n",
    "plt.barh(crime_by_month.index, crime_by_month['Month_of_year'], align='center', alpha=0.5)\n",
    "objects = ['Jan','Feb','Mar','Apr','Ma','Jun','Jul','Aug','Sept','Oct','Nov','Dec']\n",
    "plt.yticks(crime_by_month.index, objects)\n",
    "plt.xlabel('Crime Reports')\n",
    "plt.title('IMPAIRED By Month')\n",
    "plt.show()\n"
   ]
  },
  {
   "cell_type": "code",
   "execution_count": 75,
   "metadata": {},
   "outputs": [
    {
     "data": {
      "image/png": "[encoded data removed]",
      "text/plain": [
       "<Figure size 432x288 with 1 Axes>"
      ]
     },
     "metadata": {},
     "output_type": "display_data"
    }
   ],
   "source": [
    "crime_by_month = crime_df[crime_df['CAT'] == 'THEFT']\n",
    "crime_by_month = pd.DataFrame(crime_by_month[\"Month_of_year\"].value_counts())\n",
    "crime_by_month = crime_by_month.sort_index()\n",
    "plt.barh(crime_by_month.index, crime_by_month['Month_of_year'], align='center', alpha=0.5)\n",
    "objects = ['Jan','Feb','Mar','Apr','Ma','Jun','Jul','Aug','Sept','Oct','Nov','Dec']\n",
    "plt.yticks(crime_by_month.index, objects)\n",
    "plt.xlabel('Crime Reports')\n",
    "plt.title('THEFT By Month')\n",
    "plt.show()"
   ]
  },
  {
   "cell_type": "markdown",
   "metadata": {},
   "source": [
    "# Year"
   ]
  },
  {
   "cell_type": "code",
   "execution_count": 76,
   "metadata": {},
   "outputs": [],
   "source": [
    "crime_df[\"Year\"] = [int(dte.split(\"/\")[2]) for dte in crime_df['Date']]"
   ]
  },
  {
   "cell_type": "markdown",
   "metadata": {},
   "source": [
    "### Day Of The Week"
   ]
  },
  {
   "cell_type": "code",
   "execution_count": 77,
   "metadata": {},
   "outputs": [
    {
     "data": {
      "text/html": [
       "<div>\n",
       "<style scoped>\n",
       "    .dataframe tbody tr th:only-of-type {\n",
       "        vertical-align: middle;\n",
       "    }\n",
       "\n",
       "    .dataframe tbody tr th {\n",
       "        vertical-align: top;\n",
       "    }\n",
       "\n",
       "    .dataframe thead th {\n",
       "        text-align: right;\n",
       "    }\n",
       "</style>\n",
       "<table border=\"1\" class=\"dataframe\">\n",
       "  <thead>\n",
       "    <tr style=\"text-align: right;\">\n",
       "      <th></th>\n",
       "      <th>Day_of_week</th>\n",
       "    </tr>\n",
       "  </thead>\n",
       "  <tbody>\n",
       "    <tr>\n",
       "      <th>1</th>\n",
       "      <td>260497</td>\n",
       "    </tr>\n",
       "    <tr>\n",
       "      <th>2</th>\n",
       "      <td>266115</td>\n",
       "    </tr>\n",
       "    <tr>\n",
       "      <th>3</th>\n",
       "      <td>273839</td>\n",
       "    </tr>\n",
       "    <tr>\n",
       "      <th>4</th>\n",
       "      <td>267157</td>\n",
       "    </tr>\n",
       "    <tr>\n",
       "      <th>5</th>\n",
       "      <td>287167</td>\n",
       "    </tr>\n",
       "    <tr>\n",
       "      <th>6</th>\n",
       "      <td>277755</td>\n",
       "    </tr>\n",
       "    <tr>\n",
       "      <th>7</th>\n",
       "      <td>256000</td>\n",
       "    </tr>\n",
       "  </tbody>\n",
       "</table>\n",
       "</div>"
      ],
      "text/plain": [
       "   Day_of_week\n",
       "1       260497\n",
       "2       266115\n",
       "3       273839\n",
       "4       267157\n",
       "5       287167\n",
       "6       277755\n",
       "7       256000"
      ]
     },
     "execution_count": 77,
     "metadata": {},
     "output_type": "execute_result"
    }
   ],
   "source": [
    "# Transform day of week into ordered numbers \n",
    "selections = [\n",
    "    (crime_df['DayOfWeek']=='Monday'),\n",
    "    (crime_df['DayOfWeek']=='Tuesday'),\n",
    "    (crime_df['DayOfWeek']=='Wednesday'),\n",
    "    (crime_df['DayOfWeek']=='Thursday'),\n",
    "    (crime_df['DayOfWeek']=='Friday'),\n",
    "    (crime_df['DayOfWeek']=='Saturday'),\n",
    "    (crime_df['DayOfWeek']=='Sunday')] \n",
    "\n",
    "new_categories = [1,2,3,4,5,6,7]\n",
    "crime_df['Day_of_week'] = np.select(selections, new_categories, default=7)\n",
    " \n",
    "crime_by_day = pd.DataFrame(crime_df[\"Day_of_week\"].value_counts())\n",
    "crime_by_day = crime_by_day.sort_index()\n",
    "crime_by_day"
   ]
  },
  {
   "cell_type": "code",
   "execution_count": 78,
   "metadata": {},
   "outputs": [
    {
     "data": {
      "text/html": [
       "<div>\n",
       "<style scoped>\n",
       "    .dataframe tbody tr th:only-of-type {\n",
       "        vertical-align: middle;\n",
       "    }\n",
       "\n",
       "    .dataframe tbody tr th {\n",
       "        vertical-align: top;\n",
       "    }\n",
       "\n",
       "    .dataframe thead th {\n",
       "        text-align: right;\n",
       "    }\n",
       "</style>\n",
       "<table border=\"1\" class=\"dataframe\">\n",
       "  <thead>\n",
       "    <tr style=\"text-align: right;\">\n",
       "      <th></th>\n",
       "      <th>Day_of_week</th>\n",
       "    </tr>\n",
       "  </thead>\n",
       "  <tbody>\n",
       "    <tr>\n",
       "      <th>1</th>\n",
       "      <td>58162</td>\n",
       "    </tr>\n",
       "    <tr>\n",
       "      <th>2</th>\n",
       "      <td>57681</td>\n",
       "    </tr>\n",
       "    <tr>\n",
       "      <th>3</th>\n",
       "      <td>58880</td>\n",
       "    </tr>\n",
       "    <tr>\n",
       "      <th>4</th>\n",
       "      <td>57718</td>\n",
       "    </tr>\n",
       "    <tr>\n",
       "      <th>5</th>\n",
       "      <td>63804</td>\n",
       "    </tr>\n",
       "    <tr>\n",
       "      <th>6</th>\n",
       "      <td>64327</td>\n",
       "    </tr>\n",
       "    <tr>\n",
       "      <th>7</th>\n",
       "      <td>62247</td>\n",
       "    </tr>\n",
       "  </tbody>\n",
       "</table>\n",
       "</div>"
      ],
      "text/plain": [
       "   Day_of_week\n",
       "1        58162\n",
       "2        57681\n",
       "3        58880\n",
       "4        57718\n",
       "5        63804\n",
       "6        64327\n",
       "7        62247"
      ]
     },
     "execution_count": 78,
     "metadata": {},
     "output_type": "execute_result"
    }
   ],
   "source": [
    "crime_by_day = crime_df[crime_df['CAT'] == 'VIOLENCE']\n",
    "crime_by_day = pd.DataFrame(crime_by_day[\"Day_of_week\"].value_counts())\n",
    "crime_by_day = crime_by_day.sort_index()\n",
    "crime_by_day"
   ]
  },
  {
   "cell_type": "code",
   "execution_count": 79,
   "metadata": {},
   "outputs": [
    {
     "data": {
      "image/png": "[encoded data removed]",
      "text/plain": [
       "<Figure size 432x288 with 1 Axes>"
      ]
     },
     "metadata": {},
     "output_type": "display_data"
    }
   ],
   "source": [
    "crime_by_day = crime_df[crime_df['CAT'] == 'THEFT']\n",
    "crime_by_day = pd.DataFrame(crime_by_day[\"Day_of_week\"].value_counts())\n",
    "crime_by_day = crime_by_day.sort_index() \n",
    "\n",
    "plt.barh(crime_by_day.index, crime_by_day['Day_of_week'], align='center', alpha=0.5)\n",
    "objects = ['Mon','Tue','Wed','Thu','Fri','Sat','Sun']\n",
    "plt.yticks(crime_by_day.index, objects)\n",
    "plt.xlabel('Crime Reports')\n",
    "plt.title('THEFT By Day_of_week')\n",
    "plt.show()\n",
    "\n",
    " \n"
   ]
  },
  {
   "cell_type": "code",
   "execution_count": 80,
   "metadata": {},
   "outputs": [
    {
     "data": {
      "image/png": "[encoded data removed]",
      "text/plain": [
       "<Figure size 432x288 with 1 Axes>"
      ]
     },
     "metadata": {},
     "output_type": "display_data"
    }
   ],
   "source": [
    "crime_by_day = crime_df[crime_df['CAT'] == 'VIOLENCE']\n",
    "crime_by_day = pd.DataFrame(crime_by_day[\"Day_of_week\"].value_counts())\n",
    "crime_by_day = crime_by_day.sort_index() \n",
    "\n",
    "plt.barh(crime_by_day.index, crime_by_day['Day_of_week'], align='center', alpha=0.5)\n",
    "objects = ['Mon','Tue','Wed','Thu','Fri','Sat','Sun']\n",
    "plt.yticks(crime_by_day.index, objects)\n",
    "plt.xlabel('Crime Reports')\n",
    "plt.title('VIOLENCE By Day_of_week')\n",
    "plt.show()\n"
   ]
  },
  {
   "cell_type": "code",
   "execution_count": 81,
   "metadata": {},
   "outputs": [
    {
     "data": {
      "image/png": "[encoded data removed]",
      "text/plain": [
       "<Figure size 432x288 with 1 Axes>"
      ]
     },
     "metadata": {},
     "output_type": "display_data"
    }
   ],
   "source": [
    "crime_by_day = crime_df[crime_df['CAT'] == 'IMPAIRED']\n",
    "crime_by_day = pd.DataFrame(crime_by_day[\"Day_of_week\"].value_counts())\n",
    "crime_by_day = crime_by_day.sort_index() \n",
    "\n",
    "plt.barh(crime_by_day.index, crime_by_day['Day_of_week'], align='center', alpha=0.5)\n",
    "objects = ['Mon','Tue','Wed','Thu','Fri','Sat','Sun']\n",
    "plt.yticks(crime_by_day.index, objects)\n",
    "plt.xlabel('Crime Reports')\n",
    "plt.title('IMPAIRED By Day_of_week')\n",
    "plt.show()"
   ]
  },
  {
   "cell_type": "code",
   "execution_count": 82,
   "metadata": {},
   "outputs": [
    {
     "data": {
      "text/plain": [
       "1     66583\n",
       "2     59249\n",
       "3     65824\n",
       "4     64847\n",
       "5     63518\n",
       "6     60993\n",
       "7     64680\n",
       "8     66126\n",
       "9     63701\n",
       "10    66633\n",
       "11    61900\n",
       "12    62297\n",
       "Name: Month_of_year, dtype: int64"
      ]
     },
     "execution_count": 82,
     "metadata": {},
     "output_type": "execute_result"
    }
   ],
   "source": [
    "crime_by_month[\"Month_of_year\"]"
   ]
  },
  {
   "cell_type": "markdown",
   "metadata": {},
   "source": [
    "# Geo coordinates "
   ]
  },
  {
   "cell_type": "code",
   "execution_count": 83,
   "metadata": {},
   "outputs": [
    {
     "data": {
      "text/plain": [
       "count    1.888530e+06\n",
       "mean    -1.224230e+02\n",
       "std      2.985543e-02\n",
       "min     -1.225136e+02\n",
       "25%     -1.224333e+02\n",
       "50%     -1.224167e+02\n",
       "75%     -1.224069e+02\n",
       "max     -1.205000e+02\n",
       "Name: Longitude, dtype: float64"
      ]
     },
     "execution_count": 83,
     "metadata": {},
     "output_type": "execute_result"
    }
   ],
   "source": [
    "crime_df[\"Longitude\"].describe()"
   ]
  },
  {
   "cell_type": "code",
   "execution_count": 84,
   "metadata": {},
   "outputs": [
    {
     "data": {
      "text/plain": [
       "count    1.888530e+06\n",
       "mean     3.777127e+01\n",
       "std      4.204831e-01\n",
       "min      3.770788e+01\n",
       "25%      3.775363e+01\n",
       "50%      3.777542e+01\n",
       "75%      3.778470e+01\n",
       "max      9.000000e+01\n",
       "Name: Latitude, dtype: float64"
      ]
     },
     "execution_count": 84,
     "metadata": {},
     "output_type": "execute_result"
    }
   ],
   "source": [
    "crime_df[\"Latitude\"].describe()"
   ]
  },
  {
   "cell_type": "markdown",
   "metadata": {},
   "source": [
    "### Remove Geo-coords Outliers"
   ]
  },
  {
   "cell_type": "code",
   "execution_count": 85,
   "metadata": {},
   "outputs": [
    {
     "data": {
      "text/plain": [
       "count    1.704269e+06\n",
       "mean     3.776727e+01\n",
       "std      2.252819e-02\n",
       "min      3.770788e+01\n",
       "25%      3.775544e+01\n",
       "50%      3.777542e+01\n",
       "75%      3.778396e+01\n",
       "max      3.779944e+01\n",
       "Name: Latitude, dtype: float64"
      ]
     },
     "execution_count": 85,
     "metadata": {},
     "output_type": "execute_result"
    }
   ],
   "source": [
    "# plot geocords\n",
    "# remove edge coordinates / outliers \n",
    "q = crime_df[\"Longitude\"].quantile(0.95)\n",
    "crime_df = crime_df[crime_df[\"Longitude\"] < q]\n",
    "q = crime_df[\"Latitude\"].quantile(0.95)\n",
    "crime_df = crime_df[crime_df[\"Latitude\"] < q]\n",
    "crime_df[\"Latitude\"].describe()"
   ]
  },
  {
   "cell_type": "code",
   "execution_count": 86,
   "metadata": {},
   "outputs": [
    {
     "data": {
      "image/png": "[encoded data removed]",
      "text/plain": [
       "<Figure size 432x288 with 1 Axes>"
      ]
     },
     "metadata": {},
     "output_type": "display_data"
    }
   ],
   "source": [
    "plt.plot(crime_df['Longitude'].head(50000), \n",
    "         crime_df['Latitude'].head(50000),\n",
    "         linestyle='none', marker='.')\n",
    "plt.suptitle('Reported Crime By Longitude And Latitude')\n",
    "plt.xlabel('Longitude')\n",
    "plt.ylabel('Latitude')\n",
    "\n",
    "plt.show()"
   ]
  },
  {
   "cell_type": "code",
   "execution_count": 87,
   "metadata": {},
   "outputs": [
    {
     "data": {
      "image/png": "[encoded data removed]",
      "text/plain": [
       "<Figure size 432x288 with 1 Axes>"
      ]
     },
     "metadata": {},
     "output_type": "display_data"
    }
   ],
   "source": [
    "rounding_factor = 4\n",
    "plt.plot(np.round(crime_df['Longitude'].head(10000),rounding_factor), \n",
    "         np.round(crime_df['Latitude'].head(10000),rounding_factor),\n",
    "         linestyle='none', marker='.')\n",
    "plt.suptitle('Reported Crime With Rounded Longitude And Latitude')\n",
    "plt.xlabel('Longitude')\n",
    "plt.ylabel('Latitude')\n",
    "plt.show()"
   ]
  },
  {
   "cell_type": "code",
   "execution_count": 88,
   "metadata": {},
   "outputs": [
    {
     "data": {
      "image/png": "[encoded data removed]",
      "text/plain": [
       "<Figure size 432x288 with 1 Axes>"
      ]
     },
     "metadata": {},
     "output_type": "display_data"
    }
   ],
   "source": [
    "rounding_factor = 2\n",
    "plt.plot(np.round(crime_df['Longitude'].head(10000),rounding_factor), \n",
    "         np.round(crime_df['Latitude'].head(10000),rounding_factor),\n",
    "         linestyle='none', marker='.')\n",
    "plt.suptitle('Reported Crime Rounded by Longitude And Latitude')\n",
    "plt.xlabel('Longitude')\n",
    "plt.ylabel('Latitude')\n",
    "plt.show()"
   ]
  },
  {
   "cell_type": "markdown",
   "metadata": {},
   "source": [
    "# Create heatmap\n"
   ]
  },
  {
   "cell_type": "code",
   "execution_count": 89,
   "metadata": {},
   "outputs": [
    {
     "data": {
      "image/png": "[encoded data removed]",
      "text/plain": [
       "<Figure size 432x288 with 1 Axes>"
      ]
     },
     "metadata": {},
     "output_type": "display_data"
    }
   ],
   "source": [
    "# Create heatmap\n",
    "from matplotlib.colors import LogNorm\n",
    "x = np.round(crime_df['Longitude'].head(10000),rounding_factor)\n",
    "y = np.round(crime_df['Latitude'].head(10000),rounding_factor)\n",
    "fig = plt.figure()\n",
    "plt.suptitle('Reported Crime Heatmap')\n",
    "plt.xlabel('Latitude')\n",
    "plt.ylabel('Longitude')\n",
    "H, xedges, yedges, img = plt.hist2d(x, y, norm=LogNorm())\n",
    "extent = [yedges[0], yedges[-1], xedges[0], xedges[-1]]\n",
    "\n",
    "\n",
    "\n",
    "#ax = fig.add_subplot(1, 1, 1)\n",
    "#im = ax.imshow(H, cmap=plt.cm.jet, extent=extent, norm=LogNorm())\n",
    "\n",
    "plt.show()"
   ]
  },
  {
   "cell_type": "code",
   "execution_count": 90,
   "metadata": {},
   "outputs": [
    {
     "data": {
      "image/png": "[encoded data removed]",
      "text/plain": [
       "<Figure size 432x288 with 1 Axes>"
      ]
     },
     "metadata": {},
     "output_type": "display_data"
    }
   ],
   "source": [
    "crime_df['Longitude'] = np.round(crime_df['Longitude'],3)\n",
    "crime_df['Latitude'] = np.round(crime_df['Latitude'],3)\n",
    "crime_df['Longitude'].head(2000).hist()\n",
    "plt.show()"
   ]
  },
  {
   "cell_type": "markdown",
   "metadata": {},
   "source": [
    "# Time Segments"
   ]
  },
  {
   "cell_type": "markdown",
   "metadata": {},
   "source": [
    "### Create AM, AFT, NT"
   ]
  },
  {
   "cell_type": "code",
   "execution_count": 91,
   "metadata": {},
   "outputs": [
    {
     "data": {
      "text/plain": [
       "2    597050\n",
       "1    586101\n",
       "0    521118\n",
       "Name: Day_Segment, dtype: int64"
      ]
     },
     "execution_count": 91,
     "metadata": {},
     "output_type": "execute_result"
    }
   ],
   "source": [
    "# create AM, AFT, NT\n",
    "crime_df[\"Hour\"] = [int(hr.split(\":\")[0]) for hr in crime_df['Time']]\n",
    "crime_df[\"Hour\"]\n",
    "\n",
    "# create new super groups\n",
    "selections = [\n",
    "    (crime_df['Hour'] > 5) & (crime_df['Hour'] <=13),\n",
    "    (crime_df['Hour']  > 13) & (crime_df['Hour'] <= 19),\n",
    "    (crime_df['Hour']  > 18) & (crime_df['Hour'] <= 5)] \n",
    "\n",
    "new_categories = [0, 1, 2] # ['AM', 'AFT', 'NIT']\n",
    "time_segment_names = ['AM','AFT','NIT']\n",
    "crime_df['Day_Segment'] = np.select(selections, new_categories, default=2)\n",
    "crime_df['Day_Segment'].value_counts()\n"
   ]
  },
  {
   "cell_type": "code",
   "execution_count": 92,
   "metadata": {},
   "outputs": [
    {
     "data": {
      "text/html": [
       "<div>\n",
       "<style scoped>\n",
       "    .dataframe tbody tr th:only-of-type {\n",
       "        vertical-align: middle;\n",
       "    }\n",
       "\n",
       "    .dataframe tbody tr th {\n",
       "        vertical-align: top;\n",
       "    }\n",
       "\n",
       "    .dataframe thead th {\n",
       "        text-align: right;\n",
       "    }\n",
       "</style>\n",
       "<table border=\"1\" class=\"dataframe\">\n",
       "  <thead>\n",
       "    <tr style=\"text-align: right;\">\n",
       "      <th></th>\n",
       "      <th>Category</th>\n",
       "      <th>DayOfWeek</th>\n",
       "      <th>Date</th>\n",
       "      <th>Time</th>\n",
       "      <th>Longitude</th>\n",
       "      <th>Latitude</th>\n",
       "      <th>CAT</th>\n",
       "      <th>Day_of_month</th>\n",
       "      <th>Month_of_year</th>\n",
       "      <th>Year</th>\n",
       "      <th>Day_of_week</th>\n",
       "      <th>Hour</th>\n",
       "      <th>Day_Segment</th>\n",
       "    </tr>\n",
       "  </thead>\n",
       "  <tbody>\n",
       "    <tr>\n",
       "      <th>0</th>\n",
       "      <td>NON-CRIMINAL</td>\n",
       "      <td>Monday</td>\n",
       "      <td>01/19/2015</td>\n",
       "      <td>14:00</td>\n",
       "      <td>-122.422</td>\n",
       "      <td>37.762</td>\n",
       "      <td>OTHER</td>\n",
       "      <td>19</td>\n",
       "      <td>1</td>\n",
       "      <td>2015</td>\n",
       "      <td>1</td>\n",
       "      <td>14</td>\n",
       "      <td>1</td>\n",
       "    </tr>\n",
       "    <tr>\n",
       "      <th>1</th>\n",
       "      <td>ROBBERY</td>\n",
       "      <td>Sunday</td>\n",
       "      <td>02/01/2015</td>\n",
       "      <td>15:45</td>\n",
       "      <td>-122.414</td>\n",
       "      <td>37.784</td>\n",
       "      <td>THEFT</td>\n",
       "      <td>1</td>\n",
       "      <td>2</td>\n",
       "      <td>2015</td>\n",
       "      <td>7</td>\n",
       "      <td>15</td>\n",
       "      <td>1</td>\n",
       "    </tr>\n",
       "    <tr>\n",
       "      <th>2</th>\n",
       "      <td>ASSAULT</td>\n",
       "      <td>Sunday</td>\n",
       "      <td>02/01/2015</td>\n",
       "      <td>15:45</td>\n",
       "      <td>-122.414</td>\n",
       "      <td>37.784</td>\n",
       "      <td>VIOLENCE</td>\n",
       "      <td>1</td>\n",
       "      <td>2</td>\n",
       "      <td>2015</td>\n",
       "      <td>7</td>\n",
       "      <td>15</td>\n",
       "      <td>1</td>\n",
       "    </tr>\n",
       "    <tr>\n",
       "      <th>5</th>\n",
       "      <td>NON-CRIMINAL</td>\n",
       "      <td>Sunday</td>\n",
       "      <td>02/01/2015</td>\n",
       "      <td>16:21</td>\n",
       "      <td>-122.452</td>\n",
       "      <td>37.787</td>\n",
       "      <td>OTHER</td>\n",
       "      <td>1</td>\n",
       "      <td>2</td>\n",
       "      <td>2015</td>\n",
       "      <td>7</td>\n",
       "      <td>16</td>\n",
       "      <td>1</td>\n",
       "    </tr>\n",
       "    <tr>\n",
       "      <th>8</th>\n",
       "      <td>BURGLARY</td>\n",
       "      <td>Saturday</td>\n",
       "      <td>01/31/2015</td>\n",
       "      <td>16:09</td>\n",
       "      <td>-122.407</td>\n",
       "      <td>37.788</td>\n",
       "      <td>THEFT</td>\n",
       "      <td>31</td>\n",
       "      <td>1</td>\n",
       "      <td>2015</td>\n",
       "      <td>6</td>\n",
       "      <td>16</td>\n",
       "      <td>1</td>\n",
       "    </tr>\n",
       "  </tbody>\n",
       "</table>\n",
       "</div>"
      ],
      "text/plain": [
       "       Category DayOfWeek        Date   Time  Longitude  Latitude       CAT  \\\n",
       "0  NON-CRIMINAL    Monday  01/19/2015  14:00   -122.422    37.762     OTHER   \n",
       "1       ROBBERY    Sunday  02/01/2015  15:45   -122.414    37.784     THEFT   \n",
       "2       ASSAULT    Sunday  02/01/2015  15:45   -122.414    37.784  VIOLENCE   \n",
       "5  NON-CRIMINAL    Sunday  02/01/2015  16:21   -122.452    37.787     OTHER   \n",
       "8      BURGLARY  Saturday  01/31/2015  16:09   -122.407    37.788     THEFT   \n",
       "\n",
       "   Day_of_month  Month_of_year  Year  Day_of_week  Hour  Day_Segment  \n",
       "0            19              1  2015            1    14            1  \n",
       "1             1              2  2015            7    15            1  \n",
       "2             1              2  2015            7    15            1  \n",
       "5             1              2  2015            7    16            1  \n",
       "8            31              1  2015            6    16            1  "
      ]
     },
     "execution_count": 92,
     "metadata": {},
     "output_type": "execute_result"
    }
   ],
   "source": [
    "crime_df.head()"
   ]
  },
  {
   "cell_type": "markdown",
   "metadata": {},
   "source": [
    "## Plot time segments by crime"
   ]
  },
  {
   "cell_type": "code",
   "execution_count": 93,
   "metadata": {},
   "outputs": [
    {
     "data": {
      "image/png": "[encoded data removed]",
      "text/plain": [
       "<Figure size 432x288 with 1 Axes>"
      ]
     },
     "metadata": {},
     "output_type": "display_data"
    }
   ],
   "source": [
    "crime_by_time = crime_df[crime_df['CAT'] == 'IMPAIRED']\n",
    "crime_by_time = pd.DataFrame(crime_by_time[\"Day_Segment\"].value_counts())\n",
    "crime_by_time = crime_by_time.sort_index() \n",
    "\n",
    "plt.barh(crime_by_time.index, crime_by_time[\"Day_Segment\"], align='center', alpha=0.5)\n",
    "plt.yticks(crime_by_time.index, time_segment_names)\n",
    "plt.xlabel('Crime Reports')\n",
    "plt.title('IMPAIRED By Day_Segment')\n",
    "plt.show()"
   ]
  },
  {
   "cell_type": "code",
   "execution_count": 94,
   "metadata": {},
   "outputs": [
    {
     "data": {
      "image/png": "[encoded data removed]",
      "text/plain": [
       "<Figure size 432x288 with 1 Axes>"
      ]
     },
     "metadata": {},
     "output_type": "display_data"
    }
   ],
   "source": [
    "crime_by_time = crime_df[crime_df['CAT'] == 'THEFT']\n",
    "crime_by_time = pd.DataFrame(crime_by_time[\"Day_Segment\"].value_counts())\n",
    "crime_by_time = crime_by_time.sort_index() \n",
    "\n",
    "plt.barh(crime_by_time.index, crime_by_time[\"Day_Segment\"], align='center', alpha=0.5)\n",
    "plt.yticks(crime_by_time.index, time_segment_names)\n",
    "plt.xlabel('Crime Reports')\n",
    "plt.title('THEFT By Day_Segment')\n",
    "plt.show()"
   ]
  },
  {
   "cell_type": "code",
   "execution_count": 95,
   "metadata": {},
   "outputs": [
    {
     "data": {
      "image/png": "[encoded data removed]",
      "text/plain": [
       "<Figure size 432x288 with 1 Axes>"
      ]
     },
     "metadata": {},
     "output_type": "display_data"
    }
   ],
   "source": [
    "crime_by_time = crime_df[crime_df['CAT'] == 'VIOLENCE']\n",
    "crime_by_time = pd.DataFrame(crime_by_time[\"Day_Segment\"].value_counts())\n",
    "crime_by_time = crime_by_time.sort_index() \n",
    "\n",
    "plt.barh(crime_by_time.index, crime_by_time[\"Day_Segment\"], align='center', alpha=0.5)\n",
    "plt.yticks(crime_by_time.index, time_segment_names)\n",
    "plt.xlabel('Crime Reports')\n",
    "plt.title('VIOLENCE By Day_Segment')\n",
    "plt.show()"
   ]
  },
  {
   "cell_type": "markdown",
   "metadata": {},
   "source": [
    "# Final features for model"
   ]
  },
  {
   "cell_type": "code",
   "execution_count": 96,
   "metadata": {},
   "outputs": [],
   "source": [
    "crime_df = crime_df[['CAT', 'Day_of_month','Month_of_year', 'Day_Segment', 'Longitude', 'Latitude', 'Year']]"
   ]
  },
  {
   "cell_type": "code",
   "execution_count": 97,
   "metadata": {},
   "outputs": [
    {
     "data": {
      "text/html": [
       "<div>\n",
       "<style scoped>\n",
       "    .dataframe tbody tr th:only-of-type {\n",
       "        vertical-align: middle;\n",
       "    }\n",
       "\n",
       "    .dataframe tbody tr th {\n",
       "        vertical-align: top;\n",
       "    }\n",
       "\n",
       "    .dataframe thead th {\n",
       "        text-align: right;\n",
       "    }\n",
       "</style>\n",
       "<table border=\"1\" class=\"dataframe\">\n",
       "  <thead>\n",
       "    <tr style=\"text-align: right;\">\n",
       "      <th></th>\n",
       "      <th>CAT</th>\n",
       "      <th>Day_of_month</th>\n",
       "      <th>Month_of_year</th>\n",
       "      <th>Day_Segment</th>\n",
       "      <th>Longitude</th>\n",
       "      <th>Latitude</th>\n",
       "      <th>Year</th>\n",
       "    </tr>\n",
       "  </thead>\n",
       "  <tbody>\n",
       "    <tr>\n",
       "      <th>0</th>\n",
       "      <td>OTHER</td>\n",
       "      <td>19</td>\n",
       "      <td>1</td>\n",
       "      <td>1</td>\n",
       "      <td>-122.422</td>\n",
       "      <td>37.762</td>\n",
       "      <td>2015</td>\n",
       "    </tr>\n",
       "    <tr>\n",
       "      <th>1</th>\n",
       "      <td>THEFT</td>\n",
       "      <td>1</td>\n",
       "      <td>2</td>\n",
       "      <td>1</td>\n",
       "      <td>-122.414</td>\n",
       "      <td>37.784</td>\n",
       "      <td>2015</td>\n",
       "    </tr>\n",
       "    <tr>\n",
       "      <th>2</th>\n",
       "      <td>VIOLENCE</td>\n",
       "      <td>1</td>\n",
       "      <td>2</td>\n",
       "      <td>1</td>\n",
       "      <td>-122.414</td>\n",
       "      <td>37.784</td>\n",
       "      <td>2015</td>\n",
       "    </tr>\n",
       "    <tr>\n",
       "      <th>5</th>\n",
       "      <td>OTHER</td>\n",
       "      <td>1</td>\n",
       "      <td>2</td>\n",
       "      <td>1</td>\n",
       "      <td>-122.452</td>\n",
       "      <td>37.787</td>\n",
       "      <td>2015</td>\n",
       "    </tr>\n",
       "    <tr>\n",
       "      <th>8</th>\n",
       "      <td>THEFT</td>\n",
       "      <td>31</td>\n",
       "      <td>1</td>\n",
       "      <td>1</td>\n",
       "      <td>-122.407</td>\n",
       "      <td>37.788</td>\n",
       "      <td>2015</td>\n",
       "    </tr>\n",
       "  </tbody>\n",
       "</table>\n",
       "</div>"
      ],
      "text/plain": [
       "        CAT  Day_of_month  Month_of_year  Day_Segment  Longitude  Latitude  \\\n",
       "0     OTHER            19              1            1   -122.422    37.762   \n",
       "1     THEFT             1              2            1   -122.414    37.784   \n",
       "2  VIOLENCE             1              2            1   -122.414    37.784   \n",
       "5     OTHER             1              2            1   -122.452    37.787   \n",
       "8     THEFT            31              1            1   -122.407    37.788   \n",
       "\n",
       "   Year  \n",
       "0  2015  \n",
       "1  2015  \n",
       "2  2015  \n",
       "5  2015  \n",
       "8  2015  "
      ]
     },
     "execution_count": 97,
     "metadata": {},
     "output_type": "execute_result"
    }
   ],
   "source": [
    "crime_df.head()"
   ]
  },
  {
   "cell_type": "markdown",
   "metadata": {},
   "source": [
    "# Creating Crime Estimates "
   ]
  },
  {
   "cell_type": "markdown",
   "metadata": {},
   "source": [
    "## Aggregating data down to time and location"
   ]
  },
  {
   "cell_type": "code",
   "execution_count": 98,
   "metadata": {},
   "outputs": [
    {
     "data": {
      "text/html": [
       "<div>\n",
       "<style scoped>\n",
       "    .dataframe tbody tr th:only-of-type {\n",
       "        vertical-align: middle;\n",
       "    }\n",
       "\n",
       "    .dataframe tbody tr th {\n",
       "        vertical-align: top;\n",
       "    }\n",
       "\n",
       "    .dataframe thead th {\n",
       "        text-align: right;\n",
       "    }\n",
       "</style>\n",
       "<table border=\"1\" class=\"dataframe\">\n",
       "  <thead>\n",
       "    <tr style=\"text-align: right;\">\n",
       "      <th></th>\n",
       "      <th>CAT</th>\n",
       "      <th>Day_of_month</th>\n",
       "      <th>Month_of_year</th>\n",
       "      <th>Day_Segment</th>\n",
       "      <th>Longitude</th>\n",
       "      <th>Latitude</th>\n",
       "      <th>Year</th>\n",
       "    </tr>\n",
       "  </thead>\n",
       "  <tbody>\n",
       "    <tr>\n",
       "      <th>0</th>\n",
       "      <td>OTHER</td>\n",
       "      <td>19</td>\n",
       "      <td>1</td>\n",
       "      <td>1</td>\n",
       "      <td>-122.422</td>\n",
       "      <td>37.762</td>\n",
       "      <td>2015</td>\n",
       "    </tr>\n",
       "    <tr>\n",
       "      <th>1</th>\n",
       "      <td>THEFT</td>\n",
       "      <td>1</td>\n",
       "      <td>2</td>\n",
       "      <td>1</td>\n",
       "      <td>-122.414</td>\n",
       "      <td>37.784</td>\n",
       "      <td>2015</td>\n",
       "    </tr>\n",
       "    <tr>\n",
       "      <th>2</th>\n",
       "      <td>VIOLENCE</td>\n",
       "      <td>1</td>\n",
       "      <td>2</td>\n",
       "      <td>1</td>\n",
       "      <td>-122.414</td>\n",
       "      <td>37.784</td>\n",
       "      <td>2015</td>\n",
       "    </tr>\n",
       "    <tr>\n",
       "      <th>5</th>\n",
       "      <td>OTHER</td>\n",
       "      <td>1</td>\n",
       "      <td>2</td>\n",
       "      <td>1</td>\n",
       "      <td>-122.452</td>\n",
       "      <td>37.787</td>\n",
       "      <td>2015</td>\n",
       "    </tr>\n",
       "    <tr>\n",
       "      <th>8</th>\n",
       "      <td>THEFT</td>\n",
       "      <td>31</td>\n",
       "      <td>1</td>\n",
       "      <td>1</td>\n",
       "      <td>-122.407</td>\n",
       "      <td>37.788</td>\n",
       "      <td>2015</td>\n",
       "    </tr>\n",
       "  </tbody>\n",
       "</table>\n",
       "</div>"
      ],
      "text/plain": [
       "        CAT  Day_of_month  Month_of_year  Day_Segment  Longitude  Latitude  \\\n",
       "0     OTHER            19              1            1   -122.422    37.762   \n",
       "1     THEFT             1              2            1   -122.414    37.784   \n",
       "2  VIOLENCE             1              2            1   -122.414    37.784   \n",
       "5     OTHER             1              2            1   -122.452    37.787   \n",
       "8     THEFT            31              1            1   -122.407    37.788   \n",
       "\n",
       "   Year  \n",
       "0  2015  \n",
       "1  2015  \n",
       "2  2015  \n",
       "5  2015  \n",
       "8  2015  "
      ]
     },
     "execution_count": 98,
     "metadata": {},
     "output_type": "execute_result"
    }
   ],
   "source": [
    "# aggregate data with groupby\n",
    "crime_df.head()"
   ]
  },
  {
   "cell_type": "code",
   "execution_count": 99,
   "metadata": {},
   "outputs": [
    {
     "data": {
      "text/plain": [
       "['CAT',\n",
       " 'Day_of_month',\n",
       " 'Month_of_year',\n",
       " 'Day_Segment',\n",
       " 'Longitude',\n",
       " 'Latitude',\n",
       " 'Year']"
      ]
     },
     "execution_count": 99,
     "metadata": {},
     "output_type": "execute_result"
    }
   ],
   "source": [
    "list(crime_df)"
   ]
  },
  {
   "cell_type": "code",
   "execution_count": 100,
   "metadata": {},
   "outputs": [],
   "source": [
    "crime_df['Count'] = 0"
   ]
  },
  {
   "cell_type": "code",
   "execution_count": 101,
   "metadata": {},
   "outputs": [],
   "source": [
    "\n",
    "crime_df_agg = crime_df[crime_df['Year'] >= 2017]\n",
    "\n",
    "crime_df_agg = crime_df_agg.groupby(['CAT', 'Day_of_month', 'Month_of_year',  'Day_Segment', \n",
    "                                 'Longitude',  'Latitude',]).count().reset_index()\n",
    "\n",
    "# we will use this csv file in our web application (though there is already one in the downloads for the chapter)\n",
    "crime_df_agg.to_csv('sf-crime-horizon.csv', index=None)\n"
   ]
  },
  {
   "cell_type": "code",
   "execution_count": 102,
   "metadata": {},
   "outputs": [
    {
     "data": {
      "text/html": [
       "<div>\n",
       "<style scoped>\n",
       "    .dataframe tbody tr th:only-of-type {\n",
       "        vertical-align: middle;\n",
       "    }\n",
       "\n",
       "    .dataframe tbody tr th {\n",
       "        vertical-align: top;\n",
       "    }\n",
       "\n",
       "    .dataframe thead th {\n",
       "        text-align: right;\n",
       "    }\n",
       "</style>\n",
       "<table border=\"1\" class=\"dataframe\">\n",
       "  <thead>\n",
       "    <tr style=\"text-align: right;\">\n",
       "      <th></th>\n",
       "      <th>CAT</th>\n",
       "      <th>Day_of_month</th>\n",
       "      <th>Month_of_year</th>\n",
       "      <th>Day_Segment</th>\n",
       "      <th>Longitude</th>\n",
       "      <th>Latitude</th>\n",
       "      <th>Year</th>\n",
       "      <th>Count</th>\n",
       "    </tr>\n",
       "  </thead>\n",
       "  <tbody>\n",
       "    <tr>\n",
       "      <th>134444</th>\n",
       "      <td>VIOLENCE</td>\n",
       "      <td>31</td>\n",
       "      <td>12</td>\n",
       "      <td>2</td>\n",
       "      <td>-122.404</td>\n",
       "      <td>37.754</td>\n",
       "      <td>1</td>\n",
       "      <td>1</td>\n",
       "    </tr>\n",
       "    <tr>\n",
       "      <th>134445</th>\n",
       "      <td>VIOLENCE</td>\n",
       "      <td>31</td>\n",
       "      <td>12</td>\n",
       "      <td>2</td>\n",
       "      <td>-122.404</td>\n",
       "      <td>37.784</td>\n",
       "      <td>1</td>\n",
       "      <td>1</td>\n",
       "    </tr>\n",
       "    <tr>\n",
       "      <th>134446</th>\n",
       "      <td>VIOLENCE</td>\n",
       "      <td>31</td>\n",
       "      <td>12</td>\n",
       "      <td>2</td>\n",
       "      <td>-122.403</td>\n",
       "      <td>37.775</td>\n",
       "      <td>2</td>\n",
       "      <td>2</td>\n",
       "    </tr>\n",
       "    <tr>\n",
       "      <th>134447</th>\n",
       "      <td>VIOLENCE</td>\n",
       "      <td>31</td>\n",
       "      <td>12</td>\n",
       "      <td>2</td>\n",
       "      <td>-122.403</td>\n",
       "      <td>37.785</td>\n",
       "      <td>1</td>\n",
       "      <td>1</td>\n",
       "    </tr>\n",
       "    <tr>\n",
       "      <th>134448</th>\n",
       "      <td>VIOLENCE</td>\n",
       "      <td>31</td>\n",
       "      <td>12</td>\n",
       "      <td>2</td>\n",
       "      <td>-122.396</td>\n",
       "      <td>37.754</td>\n",
       "      <td>1</td>\n",
       "      <td>1</td>\n",
       "    </tr>\n",
       "  </tbody>\n",
       "</table>\n",
       "</div>"
      ],
      "text/plain": [
       "             CAT  Day_of_month  Month_of_year  Day_Segment  Longitude  \\\n",
       "134444  VIOLENCE            31             12            2   -122.404   \n",
       "134445  VIOLENCE            31             12            2   -122.404   \n",
       "134446  VIOLENCE            31             12            2   -122.403   \n",
       "134447  VIOLENCE            31             12            2   -122.403   \n",
       "134448  VIOLENCE            31             12            2   -122.396   \n",
       "\n",
       "        Latitude  Year  Count  \n",
       "134444    37.754     1      1  \n",
       "134445    37.784     1      1  \n",
       "134446    37.775     2      2  \n",
       "134447    37.785     1      1  \n",
       "134448    37.754     1      1  "
      ]
     },
     "execution_count": 102,
     "metadata": {},
     "output_type": "execute_result"
    }
   ],
   "source": [
    "crime_df_agg.tail()\n",
    " "
   ]
  },
  {
   "cell_type": "markdown",
   "metadata": {},
   "source": [
    "# Reconstructing Crime Maps By Time Signature\n",
    "This is the part where we throw in a date, and see what it returns. We'll use a similar concept in the web application but it will be controlled by a slider. \n",
    "\n"
   ]
  },
  {
   "cell_type": "code",
   "execution_count": 103,
   "metadata": {},
   "outputs": [
    {
     "data": {
      "text/html": [
       "<div>\n",
       "<style scoped>\n",
       "    .dataframe tbody tr th:only-of-type {\n",
       "        vertical-align: middle;\n",
       "    }\n",
       "\n",
       "    .dataframe tbody tr th {\n",
       "        vertical-align: top;\n",
       "    }\n",
       "\n",
       "    .dataframe thead th {\n",
       "        text-align: right;\n",
       "    }\n",
       "</style>\n",
       "<table border=\"1\" class=\"dataframe\">\n",
       "  <thead>\n",
       "    <tr style=\"text-align: right;\">\n",
       "      <th></th>\n",
       "      <th>CAT</th>\n",
       "      <th>Day_of_month</th>\n",
       "      <th>Month_of_year</th>\n",
       "      <th>Day_Segment</th>\n",
       "      <th>Longitude</th>\n",
       "      <th>Latitude</th>\n",
       "      <th>Year</th>\n",
       "      <th>Count</th>\n",
       "    </tr>\n",
       "  </thead>\n",
       "  <tbody>\n",
       "    <tr>\n",
       "      <th>8</th>\n",
       "      <td>IMPAIRED</td>\n",
       "      <td>1</td>\n",
       "      <td>1</td>\n",
       "      <td>2</td>\n",
       "      <td>-122.475</td>\n",
       "      <td>37.721</td>\n",
       "      <td>1</td>\n",
       "      <td>1</td>\n",
       "    </tr>\n",
       "    <tr>\n",
       "      <th>9</th>\n",
       "      <td>IMPAIRED</td>\n",
       "      <td>1</td>\n",
       "      <td>1</td>\n",
       "      <td>2</td>\n",
       "      <td>-122.460</td>\n",
       "      <td>37.755</td>\n",
       "      <td>2</td>\n",
       "      <td>2</td>\n",
       "    </tr>\n",
       "    <tr>\n",
       "      <th>10</th>\n",
       "      <td>IMPAIRED</td>\n",
       "      <td>1</td>\n",
       "      <td>1</td>\n",
       "      <td>2</td>\n",
       "      <td>-122.448</td>\n",
       "      <td>37.770</td>\n",
       "      <td>2</td>\n",
       "      <td>2</td>\n",
       "    </tr>\n",
       "    <tr>\n",
       "      <th>11</th>\n",
       "      <td>IMPAIRED</td>\n",
       "      <td>1</td>\n",
       "      <td>1</td>\n",
       "      <td>2</td>\n",
       "      <td>-122.435</td>\n",
       "      <td>37.797</td>\n",
       "      <td>1</td>\n",
       "      <td>1</td>\n",
       "    </tr>\n",
       "    <tr>\n",
       "      <th>12</th>\n",
       "      <td>IMPAIRED</td>\n",
       "      <td>1</td>\n",
       "      <td>1</td>\n",
       "      <td>2</td>\n",
       "      <td>-122.431</td>\n",
       "      <td>37.761</td>\n",
       "      <td>1</td>\n",
       "      <td>1</td>\n",
       "    </tr>\n",
       "  </tbody>\n",
       "</table>\n",
       "</div>"
      ],
      "text/plain": [
       "         CAT  Day_of_month  Month_of_year  Day_Segment  Longitude  Latitude  \\\n",
       "8   IMPAIRED             1              1            2   -122.475    37.721   \n",
       "9   IMPAIRED             1              1            2   -122.460    37.755   \n",
       "10  IMPAIRED             1              1            2   -122.448    37.770   \n",
       "11  IMPAIRED             1              1            2   -122.435    37.797   \n",
       "12  IMPAIRED             1              1            2   -122.431    37.761   \n",
       "\n",
       "    Year  Count  \n",
       "8      1      1  \n",
       "9      2      2  \n",
       "10     2      2  \n",
       "11     1      1  \n",
       "12     1      1  "
      ]
     },
     "execution_count": 103,
     "metadata": {},
     "output_type": "execute_result"
    }
   ],
   "source": [
    "Day_of_month = 1\n",
    "Month_of_year = 1\n",
    "Day_Segment = 2\n",
    "crime_df_agg_tmp = crime_df_agg[(crime_df_agg['Day_of_month'] == Day_of_month) &\n",
    "                               (crime_df_agg['Month_of_year'] == Month_of_year) &\n",
    "                                 (crime_df_agg['Day_Segment'] == Day_Segment)]\n",
    "crime_df_agg_tmp.head()"
   ]
  },
  {
   "cell_type": "code",
   "execution_count": 104,
   "metadata": {},
   "outputs": [],
   "source": [
    "import datetime\n",
    "monthinteger = Month_of_year\n",
    "Month_Name = datetime.date(1900, monthinteger, 1).strftime('%B')\n",
    "    \n",
    "\n",
    "# translate time signature into readable format\n",
    "title = \"Crime Estimates For %s %s %s\" % (Month_Name, Day_of_month, time_segment_names[Day_Segment])\n"
   ]
  },
  {
   "cell_type": "code",
   "execution_count": 105,
   "metadata": {},
   "outputs": [
    {
     "data": {
      "image/png": "[encoded data removed]",
      "text/plain": [
       "<Figure size 432x288 with 1 Axes>"
      ]
     },
     "metadata": {},
     "output_type": "display_data"
    }
   ],
   "source": [
    "plt.plot(crime_df_agg_tmp['Longitude'] , \n",
    "         crime_df_agg_tmp['Latitude'] ,\n",
    "         linestyle='none', marker='.')\n",
    "plt.suptitle(title)\n",
    "plt.xlabel('Longitude')\n",
    "plt.ylabel('Latitude')\n",
    "\n",
    "plt.show()"
   ]
  },
  {
   "cell_type": "code",
   "execution_count": 106,
   "metadata": {},
   "outputs": [
    {
     "data": {
      "image/png": "[encoded data removed]",
      "text/plain": [
       "<Figure size 432x288 with 1 Axes>"
      ]
     },
     "metadata": {},
     "output_type": "display_data"
    }
   ],
   "source": [
    "# Using plot.scatter to benefit from size of dot\n",
    "plt.scatter(crime_df_agg_tmp['Longitude'] , \n",
    "         crime_df_agg_tmp['Latitude'] , s=crime_df_agg_tmp['Count'])\n",
    "plt.suptitle(title)\n",
    "plt.xlabel('Longitude')\n",
    "plt.ylabel('Latitude')\n",
    "plt.show()"
   ]
  },
  {
   "cell_type": "markdown",
   "metadata": {},
   "source": [
    "## Creating crime points for Google Maps"
   ]
  },
  {
   "cell_type": "code",
   "execution_count": 107,
   "metadata": {},
   "outputs": [
    {
     "data": {
      "text/plain": [
       "8    -122.475\n",
       "9    -122.460\n",
       "10   -122.448\n",
       "11   -122.435\n",
       "12   -122.431\n",
       "Name: Longitude, dtype: float64"
      ]
     },
     "execution_count": 107,
     "metadata": {},
     "output_type": "execute_result"
    }
   ],
   "source": [
    "crime_df_agg_tmp['Longitude'].head()"
   ]
  },
  {
   "cell_type": "code",
   "execution_count": 108,
   "metadata": {},
   "outputs": [],
   "source": [
    "# create new Google maps LatLng string\n",
    "# Google LatLng format: new google.maps.LatLng(37.770467, -122.409801), new google.maps.LatLng(37.770090, -122.408904),\n",
    "LatLngString = ''\n",
    "for index, row in crime_df_agg_tmp.iterrows():\n",
    "    LatLngString += \"new google.maps.LatLng(\" + str(row['Latitude']) + \",\" + str(row['Longitude']) + \"),\"\n",
    "     \n",
    "     "
   ]
  },
  {
   "cell_type": "markdown",
   "metadata": {},
   "source": [
    "## Abstracting Code Into A Function For Our Web Appliction"
   ]
  },
  {
   "cell_type": "code",
   "execution_count": 109,
   "metadata": {},
   "outputs": [
    {
     "name": "stdout",
     "output_type": "stream",
     "text": [
      "Day_of_month: 10\n",
      "Month_of_year: 10\n",
      "Day_Segment: 0\n"
     ]
    }
   ],
   "source": [
    "crime_horizon_df = pd.read_csv('sf-crime-horizon.csv')\n",
    " \n",
    "\n",
    "def GetCrime(horizon_date, horizon_time_segment):\n",
    "    Day_of_month = int(horizon_date.split('/')[1])\n",
    "    print('Day_of_month:',Day_of_month)\n",
    "    Month_of_year = int(horizon_date.split('/')[0])\n",
    "    print('Month_of_year:',Month_of_year)\n",
    "    Day_Segment = int(horizon_time_segment) # 0,1,2\n",
    "    print('Day_Segment:',Day_Segment)\n",
    "    crime_horizon_df_tmp = crime_horizon_df[(crime_horizon_df['Day_of_month'] == Day_of_month) &\n",
    "                                   (crime_horizon_df['Month_of_year'] == Month_of_year) &\n",
    "                                     (crime_horizon_df['Day_Segment'] == Day_Segment)]\n",
    "    \n",
    "    LatLngString = ''\n",
    "    # build latlng string for google maps\n",
    "    for index, row in crime_horizon_df_tmp.iterrows():\n",
    "        LatLngString += \"new google.maps.LatLng(\" + str(row['Latitude']) + \",\" + str(row['Longitude']) + \"),\"\n",
    "     \n",
    "    return (LatLngString)\n",
    "    \n",
    "    \n",
    "preds_crime_horizon = GetCrime('10/10/2018', 0)"
   ]
  },
  {
   "cell_type": "code",
   "execution_count": 110,
   "metadata": {},
   "outputs": [
    {
     "data": {
      "text/plain": [
       "'new google.maps.LatLng(37.724000000000004,-122.436),new google.maps.LatLng(37.77,-122.413),new google.maps.LatLng(37.775,-122.51),new google.maps.LatLng(37.745,-122.506),new google.maps.LatLng(37.765,-122.485),new google.maps.LatLng(37.763000000000005,-122.48100000000001),new google.maps.LatLng(37.746,-122.454),new google.maps.LatLng(37.771,-122.45100000000001),new google.maps.LatLng(37.766999999999996,-122.448),new google.maps.LatLng(37.713,-122.444),new google.maps.LatLng(37.766,-122.44),new google.maps.LatLng(37.778,-122.44),new google.maps.LatLng(37.783,-122.44),new google.maps.LatLng(37.765,-122.428),new google.maps.LatLng(37.753,-122.419),new google.maps.LatLng(37.760999999999996,-122.419),new google.maps.LatLng(37.798,-122.417),new google.maps.LatLng(37.78,-122.415),new google.maps.LatLng(37.783,-122.414),new google.maps.LatLng(37.793,-122.414),new google.maps.LatLng(37.77,-122.413),new google.maps.LatLng(37.771,-122.412),new google.maps.LatLng(37.785,-122.40700000000001),new go'"
      ]
     },
     "execution_count": 110,
     "metadata": {},
     "output_type": "execute_result"
    }
   ],
   "source": [
    "preds_crime_horizon[0:1000]"
   ]
  },
  {
   "cell_type": "code",
   "execution_count": null,
   "metadata": {},
   "outputs": [],
   "source": []
  }
 ],
 "metadata": {
  "kernelspec": {
   "display_name": "Python 3",
   "language": "python",
   "name": "python3"
  },
  "language_info": {
   "codemirror_mode": {
    "name": "ipython",
    "version": 3
   },
   "file_extension": ".py",
   "mimetype": "text/x-python",
   "name": "python",
   "nbconvert_exporter": "python",
   "pygments_lexer": "ipython3",
   "version": "3.6.5"
  }
 },
 "nbformat": 4,
 "nbformat_minor": 2
}
