{
 "cells": [
  {
   "cell_type": "markdown",
   "metadata": {},
   "source": [
    "<H1>Trading on PythonAnywhere, Part 3, Fundamental Support</H1>\n",
    "\n",
    "\n",
    "Note: you can install the requirements file for this notebook if you want to install all the libraries at once. Open a new terminal window, navigate to the folder with the \"requirements_jupyter.txt\" and run the following command:\n",
    "\n",
    "pip3 install -r requirements_jupyter.txt"
   ]
  },
  {
   "cell_type": "code",
   "execution_count": 1,
   "metadata": {},
   "outputs": [],
   "source": [
    "# !pip3 install -r requirements_jupyter.txt"
   ]
  },
  {
   "cell_type": "code",
   "execution_count": 2,
   "metadata": {},
   "outputs": [
    {
     "data": {
      "text/html": [
       "<div>\n",
       "<style scoped>\n",
       "    .dataframe tbody tr th:only-of-type {\n",
       "        vertical-align: middle;\n",
       "    }\n",
       "\n",
       "    .dataframe tbody tr th {\n",
       "        vertical-align: top;\n",
       "    }\n",
       "\n",
       "    .dataframe thead th {\n",
       "        text-align: right;\n",
       "    }\n",
       "</style>\n",
       "<table border=\"1\" class=\"dataframe\">\n",
       "  <thead>\n",
       "    <tr style=\"text-align: right;\">\n",
       "      <th></th>\n",
       "      <th>Symbol</th>\n",
       "      <th>Date</th>\n",
       "      <th>Adj Close</th>\n",
       "    </tr>\n",
       "  </thead>\n",
       "  <tbody>\n",
       "    <tr>\n",
       "      <th>0</th>\n",
       "      <td>^DJI</td>\n",
       "      <td>2017-04-05</td>\n",
       "      <td>20648.150391</td>\n",
       "    </tr>\n",
       "    <tr>\n",
       "      <th>1</th>\n",
       "      <td>^DJI</td>\n",
       "      <td>2017-04-06</td>\n",
       "      <td>20662.949219</td>\n",
       "    </tr>\n",
       "    <tr>\n",
       "      <th>2</th>\n",
       "      <td>^DJI</td>\n",
       "      <td>2017-04-07</td>\n",
       "      <td>20656.099609</td>\n",
       "    </tr>\n",
       "    <tr>\n",
       "      <th>3</th>\n",
       "      <td>^DJI</td>\n",
       "      <td>2017-04-10</td>\n",
       "      <td>20658.019531</td>\n",
       "    </tr>\n",
       "    <tr>\n",
       "      <th>4</th>\n",
       "      <td>^DJI</td>\n",
       "      <td>2017-04-11</td>\n",
       "      <td>20651.300781</td>\n",
       "    </tr>\n",
       "  </tbody>\n",
       "</table>\n",
       "</div>"
      ],
      "text/plain": [
       "  Symbol        Date     Adj Close\n",
       "0   ^DJI  2017-04-05  20648.150391\n",
       "1   ^DJI  2017-04-06  20662.949219\n",
       "2   ^DJI  2017-04-07  20656.099609\n",
       "3   ^DJI  2017-04-10  20658.019531\n",
       "4   ^DJI  2017-04-11  20651.300781"
      ]
     },
     "execution_count": 2,
     "metadata": {},
     "output_type": "execute_result"
    }
   ],
   "source": [
    "import pandas as pd\n",
    "import numpy as np\n",
    "import matplotlib.pyplot as plt\n",
    "\n",
    "index_symbol = ['^DJI']\n",
    "stock_symbols = ['BA','GS','UNH','MMM','HD','AAPL','MCD','IBM','CAT','TRV']\n",
    "\n",
    "# loop through each stock and load the corresponding CSV market file\n",
    "stock_data_list = []\n",
    "for stock in index_symbol + stock_symbols:\n",
    "    tmp = pd.read_csv(stock + '.csv')\n",
    "    # add stock symbol as new column\n",
    "    tmp['Symbol'] = stock\n",
    "    tmp = tmp[['Symbol', 'Date', 'Adj Close']]\n",
    "    stock_data_list.append(tmp)\n",
    "    \n",
    "stock_data = pd.concat(stock_data_list)\n",
    "stock_data.head()"
   ]
  },
  {
   "cell_type": "code",
   "execution_count": 3,
   "metadata": {},
   "outputs": [
    {
     "data": {
      "text/html": [
       "<div>\n",
       "<style scoped>\n",
       "    .dataframe tbody tr th:only-of-type {\n",
       "        vertical-align: middle;\n",
       "    }\n",
       "\n",
       "    .dataframe tbody tr th {\n",
       "        vertical-align: top;\n",
       "    }\n",
       "\n",
       "    .dataframe thead th {\n",
       "        text-align: right;\n",
       "    }\n",
       "</style>\n",
       "<table border=\"1\" class=\"dataframe\">\n",
       "  <thead>\n",
       "    <tr style=\"text-align: right;\">\n",
       "      <th>Symbol</th>\n",
       "      <th>AAPL</th>\n",
       "      <th>BA</th>\n",
       "      <th>CAT</th>\n",
       "      <th>GS</th>\n",
       "      <th>HD</th>\n",
       "      <th>IBM</th>\n",
       "      <th>MCD</th>\n",
       "      <th>MMM</th>\n",
       "      <th>TRV</th>\n",
       "      <th>UNH</th>\n",
       "      <th>^DJI</th>\n",
       "    </tr>\n",
       "    <tr>\n",
       "      <th>Date</th>\n",
       "      <th></th>\n",
       "      <th></th>\n",
       "      <th></th>\n",
       "      <th></th>\n",
       "      <th></th>\n",
       "      <th></th>\n",
       "      <th></th>\n",
       "      <th></th>\n",
       "      <th></th>\n",
       "      <th></th>\n",
       "      <th></th>\n",
       "    </tr>\n",
       "  </thead>\n",
       "  <tbody>\n",
       "    <tr>\n",
       "      <th>2017-04-05</th>\n",
       "      <td>141.777161</td>\n",
       "      <td>172.905151</td>\n",
       "      <td>91.817474</td>\n",
       "      <td>224.784515</td>\n",
       "      <td>143.392029</td>\n",
       "      <td>166.105453</td>\n",
       "      <td>127.264633</td>\n",
       "      <td>185.988541</td>\n",
       "      <td>118.215958</td>\n",
       "      <td>162.975571</td>\n",
       "      <td>20648.150391</td>\n",
       "    </tr>\n",
       "    <tr>\n",
       "      <th>2017-04-06</th>\n",
       "      <td>141.422775</td>\n",
       "      <td>173.188293</td>\n",
       "      <td>93.356865</td>\n",
       "      <td>225.752121</td>\n",
       "      <td>143.978745</td>\n",
       "      <td>165.692307</td>\n",
       "      <td>127.010887</td>\n",
       "      <td>185.646362</td>\n",
       "      <td>117.854195</td>\n",
       "      <td>162.945999</td>\n",
       "      <td>20662.949219</td>\n",
       "    </tr>\n",
       "    <tr>\n",
       "      <th>2017-04-07</th>\n",
       "      <td>141.107742</td>\n",
       "      <td>174.633438</td>\n",
       "      <td>93.064575</td>\n",
       "      <td>225.001724</td>\n",
       "      <td>143.871185</td>\n",
       "      <td>165.394455</td>\n",
       "      <td>126.825478</td>\n",
       "      <td>185.744141</td>\n",
       "      <td>117.472885</td>\n",
       "      <td>163.616150</td>\n",
       "      <td>20656.099609</td>\n",
       "    </tr>\n",
       "    <tr>\n",
       "      <th>2017-04-10</th>\n",
       "      <td>140.940399</td>\n",
       "      <td>173.373825</td>\n",
       "      <td>94.642937</td>\n",
       "      <td>225.998962</td>\n",
       "      <td>144.927246</td>\n",
       "      <td>164.491302</td>\n",
       "      <td>126.844994</td>\n",
       "      <td>185.470398</td>\n",
       "      <td>118.411491</td>\n",
       "      <td>163.083954</td>\n",
       "      <td>20658.019531</td>\n",
       "    </tr>\n",
       "    <tr>\n",
       "      <th>2017-04-11</th>\n",
       "      <td>139.424393</td>\n",
       "      <td>174.360031</td>\n",
       "      <td>94.603958</td>\n",
       "      <td>224.863480</td>\n",
       "      <td>144.917465</td>\n",
       "      <td>163.895584</td>\n",
       "      <td>128.035568</td>\n",
       "      <td>185.822357</td>\n",
       "      <td>118.489716</td>\n",
       "      <td>163.428894</td>\n",
       "      <td>20651.300781</td>\n",
       "    </tr>\n",
       "  </tbody>\n",
       "</table>\n",
       "</div>"
      ],
      "text/plain": [
       "Symbol            AAPL          BA        CAT          GS          HD  \\\n",
       "Date                                                                    \n",
       "2017-04-05  141.777161  172.905151  91.817474  224.784515  143.392029   \n",
       "2017-04-06  141.422775  173.188293  93.356865  225.752121  143.978745   \n",
       "2017-04-07  141.107742  174.633438  93.064575  225.001724  143.871185   \n",
       "2017-04-10  140.940399  173.373825  94.642937  225.998962  144.927246   \n",
       "2017-04-11  139.424393  174.360031  94.603958  224.863480  144.917465   \n",
       "\n",
       "Symbol             IBM         MCD         MMM         TRV         UNH  \\\n",
       "Date                                                                     \n",
       "2017-04-05  166.105453  127.264633  185.988541  118.215958  162.975571   \n",
       "2017-04-06  165.692307  127.010887  185.646362  117.854195  162.945999   \n",
       "2017-04-07  165.394455  126.825478  185.744141  117.472885  163.616150   \n",
       "2017-04-10  164.491302  126.844994  185.470398  118.411491  163.083954   \n",
       "2017-04-11  163.895584  128.035568  185.822357  118.489716  163.428894   \n",
       "\n",
       "Symbol              ^DJI  \n",
       "Date                      \n",
       "2017-04-05  20648.150391  \n",
       "2017-04-06  20662.949219  \n",
       "2017-04-07  20656.099609  \n",
       "2017-04-10  20658.019531  \n",
       "2017-04-11  20651.300781  "
      ]
     },
     "execution_count": 3,
     "metadata": {},
     "output_type": "execute_result"
    }
   ],
   "source": [
    "# flatten out data frame\n",
    "# make each stock symbol into unique column\n",
    "stock_data = stock_data.pivot('Date','Symbol')\n",
    "stock_data.columns = stock_data.columns.droplevel()\n",
    "\n",
    "stock_data.head()"
   ]
  },
  {
   "cell_type": "markdown",
   "metadata": {},
   "source": [
    "# Load Company Data"
   ]
  },
  {
   "cell_type": "code",
   "execution_count": 4,
   "metadata": {},
   "outputs": [],
   "source": [
    "# load nasdaq corollary material\n",
    "stock_company_info_amex = pd.read_csv('companylist_AMEX.csv')\n",
    "stock_company_info_nasdaq = pd.read_csv('companylist_NASDAQ.csv')\n",
    "stock_company_info_nyse = pd.read_csv('companylist_NYSE.csv')"
   ]
  },
  {
   "cell_type": "code",
   "execution_count": 5,
   "metadata": {},
   "outputs": [
    {
     "data": {
      "text/html": [
       "<div>\n",
       "<style scoped>\n",
       "    .dataframe tbody tr th:only-of-type {\n",
       "        vertical-align: middle;\n",
       "    }\n",
       "\n",
       "    .dataframe tbody tr th {\n",
       "        vertical-align: top;\n",
       "    }\n",
       "\n",
       "    .dataframe thead th {\n",
       "        text-align: right;\n",
       "    }\n",
       "</style>\n",
       "<table border=\"1\" class=\"dataframe\">\n",
       "  <thead>\n",
       "    <tr style=\"text-align: right;\">\n",
       "      <th></th>\n",
       "      <th>Symbol</th>\n",
       "      <th>Name</th>\n",
       "      <th>LastSale</th>\n",
       "      <th>MarketCap</th>\n",
       "      <th>IPOyear</th>\n",
       "      <th>Sector</th>\n",
       "      <th>industry</th>\n",
       "      <th>Summary Quote</th>\n",
       "      <th>Unnamed: 8</th>\n",
       "    </tr>\n",
       "  </thead>\n",
       "  <tbody>\n",
       "    <tr>\n",
       "      <th>0</th>\n",
       "      <td>PIH</td>\n",
       "      <td>1347 Property Insurance Holdings, Inc.</td>\n",
       "      <td>6.75</td>\n",
       "      <td>$40.4M</td>\n",
       "      <td>2014.0</td>\n",
       "      <td>Finance</td>\n",
       "      <td>Property-Casualty Insurers</td>\n",
       "      <td>https://www.nasdaq.com/symbol/pih</td>\n",
       "      <td>NaN</td>\n",
       "    </tr>\n",
       "    <tr>\n",
       "      <th>1</th>\n",
       "      <td>PIHPP</td>\n",
       "      <td>1347 Property Insurance Holdings, Inc.</td>\n",
       "      <td>25.50</td>\n",
       "      <td>NaN</td>\n",
       "      <td>NaN</td>\n",
       "      <td>Finance</td>\n",
       "      <td>Property-Casualty Insurers</td>\n",
       "      <td>https://www.nasdaq.com/symbol/pihpp</td>\n",
       "      <td>NaN</td>\n",
       "    </tr>\n",
       "    <tr>\n",
       "      <th>2</th>\n",
       "      <td>TURN</td>\n",
       "      <td>180 Degree Capital Corp.</td>\n",
       "      <td>2.04</td>\n",
       "      <td>$63.49M</td>\n",
       "      <td>NaN</td>\n",
       "      <td>Finance</td>\n",
       "      <td>Finance/Investors Services</td>\n",
       "      <td>https://www.nasdaq.com/symbol/turn</td>\n",
       "      <td>NaN</td>\n",
       "    </tr>\n",
       "    <tr>\n",
       "      <th>3</th>\n",
       "      <td>FLWS</td>\n",
       "      <td>1-800 FLOWERS.COM, Inc.</td>\n",
       "      <td>12.15</td>\n",
       "      <td>$784.12M</td>\n",
       "      <td>1999.0</td>\n",
       "      <td>Consumer Services</td>\n",
       "      <td>Other Specialty Stores</td>\n",
       "      <td>https://www.nasdaq.com/symbol/flws</td>\n",
       "      <td>NaN</td>\n",
       "    </tr>\n",
       "    <tr>\n",
       "      <th>4</th>\n",
       "      <td>FCCY</td>\n",
       "      <td>1st Constitution Bancorp (NJ)</td>\n",
       "      <td>21.85</td>\n",
       "      <td>$182.81M</td>\n",
       "      <td>NaN</td>\n",
       "      <td>Finance</td>\n",
       "      <td>Savings Institutions</td>\n",
       "      <td>https://www.nasdaq.com/symbol/fccy</td>\n",
       "      <td>NaN</td>\n",
       "    </tr>\n",
       "  </tbody>\n",
       "</table>\n",
       "</div>"
      ],
      "text/plain": [
       "  Symbol                                    Name  LastSale MarketCap  IPOyear  \\\n",
       "0    PIH  1347 Property Insurance Holdings, Inc.      6.75    $40.4M   2014.0   \n",
       "1  PIHPP  1347 Property Insurance Holdings, Inc.     25.50       NaN      NaN   \n",
       "2   TURN                180 Degree Capital Corp.      2.04   $63.49M      NaN   \n",
       "3   FLWS                 1-800 FLOWERS.COM, Inc.     12.15  $784.12M   1999.0   \n",
       "4   FCCY           1st Constitution Bancorp (NJ)     21.85  $182.81M      NaN   \n",
       "\n",
       "              Sector                    industry  \\\n",
       "0            Finance  Property-Casualty Insurers   \n",
       "1            Finance  Property-Casualty Insurers   \n",
       "2            Finance  Finance/Investors Services   \n",
       "3  Consumer Services      Other Specialty Stores   \n",
       "4            Finance        Savings Institutions   \n",
       "\n",
       "                         Summary Quote  Unnamed: 8  \n",
       "0    https://www.nasdaq.com/symbol/pih         NaN  \n",
       "1  https://www.nasdaq.com/symbol/pihpp         NaN  \n",
       "2   https://www.nasdaq.com/symbol/turn         NaN  \n",
       "3   https://www.nasdaq.com/symbol/flws         NaN  \n",
       "4   https://www.nasdaq.com/symbol/fccy         NaN  "
      ]
     },
     "execution_count": 5,
     "metadata": {},
     "output_type": "execute_result"
    }
   ],
   "source": [
    "stock_company_info_nasdaq.head()"
   ]
  },
  {
   "cell_type": "markdown",
   "metadata": {},
   "source": [
    "## Let's tie in our 10 stocks from the Dow30 to the corollary material"
   ]
  },
  {
   "cell_type": "code",
   "execution_count": 6,
   "metadata": {},
   "outputs": [
    {
     "name": "stdout",
     "output_type": "stream",
     "text": [
      "Symbols found in the Nasdaq list:\n"
     ]
    },
    {
     "data": {
      "text/plain": [
       "['AAPL']"
      ]
     },
     "execution_count": 6,
     "metadata": {},
     "output_type": "execute_result"
    }
   ],
   "source": [
    "print('Symbols found in the Nasdaq list:')\n",
    "list(set(stock_symbols) & set(list(stock_company_info_nasdaq['Symbol'])))"
   ]
  },
  {
   "cell_type": "code",
   "execution_count": 7,
   "metadata": {},
   "outputs": [
    {
     "data": {
      "text/html": [
       "<div>\n",
       "<style scoped>\n",
       "    .dataframe tbody tr th:only-of-type {\n",
       "        vertical-align: middle;\n",
       "    }\n",
       "\n",
       "    .dataframe tbody tr th {\n",
       "        vertical-align: top;\n",
       "    }\n",
       "\n",
       "    .dataframe thead th {\n",
       "        text-align: right;\n",
       "    }\n",
       "</style>\n",
       "<table border=\"1\" class=\"dataframe\">\n",
       "  <thead>\n",
       "    <tr style=\"text-align: right;\">\n",
       "      <th></th>\n",
       "      <th>Symbol</th>\n",
       "      <th>Name</th>\n",
       "      <th>LastSale</th>\n",
       "      <th>MarketCap</th>\n",
       "      <th>IPOyear</th>\n",
       "      <th>Sector</th>\n",
       "      <th>industry</th>\n",
       "    </tr>\n",
       "  </thead>\n",
       "  <tbody>\n",
       "    <tr>\n",
       "      <th>196</th>\n",
       "      <td>AAPL</td>\n",
       "      <td>Apple Inc.</td>\n",
       "      <td>183.83</td>\n",
       "      <td>$932.76B</td>\n",
       "      <td>1980.0</td>\n",
       "      <td>Technology</td>\n",
       "      <td>Computer Manufacturing</td>\n",
       "    </tr>\n",
       "  </tbody>\n",
       "</table>\n",
       "</div>"
      ],
      "text/plain": [
       "    Symbol        Name  LastSale MarketCap  IPOyear      Sector  \\\n",
       "196   AAPL  Apple Inc.    183.83  $932.76B   1980.0  Technology   \n",
       "\n",
       "                   industry  \n",
       "196  Computer Manufacturing  "
      ]
     },
     "execution_count": 7,
     "metadata": {},
     "output_type": "execute_result"
    }
   ],
   "source": [
    "(stock_company_info_nasdaq[stock_company_info_nasdaq['Symbol'] == 'AAPL'][['Symbol', 'Name', 'LastSale', 'MarketCap', 'IPOyear', 'Sector', 'industry']])"
   ]
  },
  {
   "cell_type": "code",
   "execution_count": 8,
   "metadata": {},
   "outputs": [
    {
     "name": "stdout",
     "output_type": "stream",
     "text": [
      "Symbols found in the Amex list:\n"
     ]
    },
    {
     "data": {
      "text/plain": [
       "[]"
      ]
     },
     "execution_count": 8,
     "metadata": {},
     "output_type": "execute_result"
    }
   ],
   "source": [
    "print('Symbols found in the Amex list:')\n",
    "list(set(stock_symbols) & set(list(stock_company_info_amex['Symbol'])))"
   ]
  },
  {
   "cell_type": "code",
   "execution_count": 9,
   "metadata": {},
   "outputs": [
    {
     "name": "stdout",
     "output_type": "stream",
     "text": [
      "Symbols found in the NYSE list:\n"
     ]
    },
    {
     "data": {
      "text/plain": [
       "['TRV', 'HD', 'BA', 'GS', 'CAT', 'IBM', 'UNH', 'MMM', 'MCD']"
      ]
     },
     "execution_count": 9,
     "metadata": {},
     "output_type": "execute_result"
    }
   ],
   "source": [
    "print('Symbols found in the NYSE list:')\n",
    "list(set(stock_symbols) & set(list(stock_company_info_nyse['Symbol'])))"
   ]
  },
  {
   "cell_type": "code",
   "execution_count": 10,
   "metadata": {},
   "outputs": [],
   "source": [
    "# Buidling out a function for the web application\n",
    "# load nasdaq corollary material\n",
    "stock_company_info_amex = pd.read_csv('companylist_AMEX.csv')\n",
    "stock_company_info_nasdaq = pd.read_csv('companylist_NASDAQ.csv')\n",
    "stock_company_info_nyse = pd.read_csv('companylist_NYSE.csv')\n",
    "\n",
    "\n",
    "        \n",
    "def GetCorollaryCompanyInfo(symbol):\n",
    "    CompanyName = \"No company name\"\n",
    "    Sector = \"No sector\"\n",
    "    Industry = \"No industry\"\n",
    "    MarketCap = \"No market cap\"\n",
    "    \n",
    "    if (symbol in list(stock_company_info_nasdaq['Symbol'])):\n",
    "        data_row = stock_company_info_nasdaq[stock_company_info_nasdaq['Symbol'] == symbol]  \n",
    "        CompanyName = data_row['Name'].values[0]\n",
    "        Sector = data_row['Sector'].values[0]\n",
    "        Industry = data_row['industry'].values[0]\n",
    "        MarketCap = data_row['MarketCap'].values[0]\n",
    "        \n",
    "    elif (symbol in list(stock_company_info_amex['Symbol'])):\n",
    "        data_row = stock_company_info_amex[stock_company_info_amex['Symbol'] == symbol]  \n",
    "        CompanyName = data_row['Name'].values[0]\n",
    "        Sector = data_row['Sector'].values[0]\n",
    "        Industry = data_row['industry'].values[0]\n",
    "        MarketCap = data_row['MarketCap'].values[0]\n",
    " \n",
    "    elif (symbol in list(stock_company_info_nyse['Symbol'])):\n",
    "        data_row = stock_company_info_nyse[stock_company_info_amex['Symbol'] == symbol]  \n",
    "        CompanyName = data_row['Name'].values[0]\n",
    "        Sector = data_row['Sector'].values[0]\n",
    "        Industry = data_row['industry'].values[0]\n",
    "        MarketCap = data_row['MarketCap'].values[0]\n",
    " \n",
    "    return (CompanyName, Sector, Industry, MarketCap)\n",
    "      "
   ]
  },
  {
   "cell_type": "code",
   "execution_count": 11,
   "metadata": {},
   "outputs": [
    {
     "data": {
      "text/plain": [
       "('Apple Inc.', 'Technology', 'Computer Manufacturing', '$932.76B')"
      ]
     },
     "execution_count": 11,
     "metadata": {},
     "output_type": "execute_result"
    }
   ],
   "source": [
    "GetCorollaryCompanyInfo('AAPL')"
   ]
  },
  {
   "cell_type": "code",
   "execution_count": 12,
   "metadata": {},
   "outputs": [],
   "source": [
    "CompanyName, Sector, Industry, MarketCap = GetCorollaryCompanyInfo('AAPL')"
   ]
  },
  {
   "cell_type": "markdown",
   "metadata": {},
   "source": [
    "# Wikipedia"
   ]
  },
  {
   "cell_type": "code",
   "execution_count": 13,
   "metadata": {},
   "outputs": [],
   "source": [
    "# !sudo pip3 install wikipedia\n",
    "import wikipedia"
   ]
  },
  {
   "cell_type": "code",
   "execution_count": 14,
   "metadata": {},
   "outputs": [
    {
     "data": {
      "text/plain": [
       "\"Apple Inc. is an American multinational technology company headquartered in Cupertino, California, that designs, develops, and sells consumer electronics, computer software, and online services. The company's hardware products include the iPhone smartphone, the iPad tablet computer, the Mac personal computer, the iPod portable media player, the Apple Watch smartwatch, the Apple TV digital media player, and the HomePod smart speaker. Apple's software includes the macOS and iOS operating systems, the iTunes media player, the Safari web browser, and the iLife and iWork creativity and productivity suites, as well as professional applications like Final Cut Pro, Logic Pro, and Xcode. Its online services include the iTunes Store, the iOS App Store and Mac App Store, Apple Music, and iCloud.\""
      ]
     },
     "execution_count": 14,
     "metadata": {},
     "output_type": "execute_result"
    }
   ],
   "source": [
    "description = wikipedia.page(\"Apple Inc.\").content\n",
    "description = description.split('\\n')[0]\n",
    "description"
   ]
  },
  {
   "cell_type": "code",
   "execution_count": 15,
   "metadata": {},
   "outputs": [],
   "source": [
    "def GetWikipediaIntro(symbol):\n",
    "    description = wikipedia.page(\"Apple Inc.\").content\n",
    "    return(description.split('\\n')[0])\n",
    " \n",
    "    "
   ]
  },
  {
   "cell_type": "code",
   "execution_count": 16,
   "metadata": {},
   "outputs": [
    {
     "data": {
      "text/plain": [
       "\"Apple Inc. is an American multinational technology company headquartered in Cupertino, California, that designs, develops, and sells consumer electronics, computer software, and online services. The company's hardware products include the iPhone smartphone, the iPad tablet computer, the Mac personal computer, the iPod portable media player, the Apple Watch smartwatch, the Apple TV digital media player, and the HomePod smart speaker. Apple's software includes the macOS and iOS operating systems, the iTunes media player, the Safari web browser, and the iLife and iWork creativity and productivity suites, as well as professional applications like Final Cut Pro, Logic Pro, and Xcode. Its online services include the iTunes Store, the iOS App Store and Mac App Store, Apple Music, and iCloud.\""
      ]
     },
     "execution_count": 16,
     "metadata": {},
     "output_type": "execute_result"
    }
   ],
   "source": [
    "GetWikipediaIntro(CompanyName)"
   ]
  },
  {
   "cell_type": "markdown",
   "metadata": {},
   "source": [
    "## Building A FinViz Link"
   ]
  },
  {
   "cell_type": "code",
   "execution_count": 17,
   "metadata": {},
   "outputs": [
    {
     "data": {
      "text/plain": [
       "'http://finviz.com/quote.ashx?t=aapl'"
      ]
     },
     "execution_count": 17,
     "metadata": {},
     "output_type": "execute_result"
    }
   ],
   "source": [
    "symbol = 'AAPL'\n",
    "url = r'http://finviz.com/quote.ashx?t={}'.format(symbol.lower())\n",
    "url"
   ]
  },
  {
   "cell_type": "code",
   "execution_count": 18,
   "metadata": {},
   "outputs": [
    {
     "data": {
      "text/plain": [
       "'http://finviz.com/quote.ashx?t=aapl'"
      ]
     },
     "execution_count": 18,
     "metadata": {},
     "output_type": "execute_result"
    }
   ],
   "source": [
    "def GetFinVizLink(symbol):\n",
    "    return(r'http://finviz.com/quote.ashx?t={}'.format(symbol.lower()))\n",
    "\n",
    "GetFinVizLink('AAPL')"
   ]
  }
 ],
 "metadata": {
  "kernelspec": {
   "display_name": "Python 3",
   "language": "python",
   "name": "python3"
  },
  "language_info": {
   "codemirror_mode": {
    "name": "ipython",
    "version": 3
   },
   "file_extension": ".py",
   "mimetype": "text/x-python",
   "name": "python",
   "nbconvert_exporter": "python",
   "pygments_lexer": "ipython3",
   "version": "3.6.5"
  }
 },
 "nbformat": 4,
 "nbformat_minor": 2
}
