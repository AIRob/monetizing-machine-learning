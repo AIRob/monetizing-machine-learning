{
 "cells": [
  {
   "cell_type": "markdown",
   "metadata": {},
   "source": [
    "# Chapter 14 - A/B Testing and MySQL\n",
    "\n",
    "\n",
    "Note: you can install the requirements file for this notebook if you want to install all the libraries at once. Open a new terminal window, navigate to the folder with the \"requirements_jupyter.txt\" and run the following command:\n",
    "\n",
    "pip3 install -r requirements_jupyter.txt\n"
   ]
  },
  {
   "cell_type": "code",
   "execution_count": 1,
   "metadata": {},
   "outputs": [],
   "source": [
    "# !pip3 install -r requirements_jupyter.txt"
   ]
  },
  {
   "cell_type": "code",
   "execution_count": 2,
   "metadata": {},
   "outputs": [],
   "source": [
    "import mysql.connector\n",
    "from mysql.connector import MySQLConnection, Error\n"
   ]
  },
  {
   "cell_type": "markdown",
   "metadata": {},
   "source": [
    "## Inserting a new row"
   ]
  },
  {
   "cell_type": "code",
   "execution_count": 3,
   "metadata": {},
   "outputs": [],
   "source": [
    "try:\n",
    "    cnx = mysql.connector.connect(user='webuser', password='thesecret', database='ABTesting')\n",
    "    cursor = cnx.cursor()\n",
    "    query = \"INSERT INTO ABTesting.tblFrontPageOptions (uuid, liked, pageid) VALUES (%s, %s,%s);\"\n",
    "    args = (999, 0, 3444)\n",
    "    cursor.execute(query, args)  \n",
    "    cursor.close()\n",
    "    cnx.commit()\n",
    "    cnx.close()\n",
    "except mysql.connector.Error as err:\n",
    "    print(\"Something went wrong: {}\".format(err))\n",
    "    "
   ]
  },
  {
   "cell_type": "markdown",
   "metadata": {},
   "source": [
    "## Read data in a table"
   ]
  },
  {
   "cell_type": "code",
   "execution_count": 4,
   "metadata": {},
   "outputs": [
    {
     "name": "stdout",
     "output_type": "stream",
     "text": [
      "uuid: 9999 liked:1 pageid: 2 on 06/28/2018 14:13:36\n",
      "uuid: 999 liked:1 pageid: 3444 on 06/28/2018 14:38:50\n",
      "uuid: 2 liked:1 pageid: 1 on 06/28/2018 14:38:58\n",
      "uuid: 999 liked:0 pageid: 3444 on 07/05/2018 12:10:38\n"
     ]
    }
   ],
   "source": [
    "import datetime\n",
    "import mysql.connector\n",
    "\n",
    "try:\n",
    "    cnx = mysql.connector.connect(user='webuser', password='thesecret', database='ABTesting')\n",
    "    cursor = cnx.cursor()\n",
    "    query = \"SELECT * FROM  ABTesting.tblFrontPageOptions\"\n",
    "    cursor.execute(query)\n",
    "\n",
    "    for (uuid, liked, pageid, time_stamp) in cursor:\n",
    "      print(\"uuid: {} liked:{} pageid: {} on {:%m/%d/%Y %H:%M:%S}\".format(\n",
    "        uuid, liked, pageid, time_stamp))\n",
    "\n",
    "    cursor.close()\n",
    "    cnx.close()\n",
    "except mysql.connector.Error as err:\n",
    "    print(\"Something went wrong: {}\".format(err))\n",
    "    "
   ]
  },
  {
   "cell_type": "markdown",
   "metadata": {},
   "source": [
    "## Update existing row"
   ]
  },
  {
   "cell_type": "code",
   "execution_count": 5,
   "metadata": {},
   "outputs": [],
   "source": [
    "try:\n",
    "    cnx = mysql.connector.connect(user='webuser', password='thesecret', database='ABTesting')\n",
    "    cursor = cnx.cursor()\n",
    "    query = \"UPDATE ABTesting.tblFrontPageOptions SET liked = %s WHERE uuid = %s;\"\n",
    "    args = (1, 999)\n",
    "    cursor.execute(query, args)  \n",
    "    cursor.close()\n",
    "    cnx.commit()\n",
    "    cnx.close()\n",
    "except mysql.connector.Error as err:\n",
    "    print(\"Something went wrong: {}\".format(err))"
   ]
  },
  {
   "cell_type": "markdown",
   "metadata": {},
   "source": [
    "   ## Creating a unique user ID"
   ]
  },
  {
   "cell_type": "code",
   "execution_count": 6,
   "metadata": {},
   "outputs": [
    {
     "data": {
      "text/plain": [
       "'f965137d-8b03-4461-8696-46d8004746a3'"
      ]
     },
     "execution_count": 6,
     "metadata": {},
     "output_type": "execute_result"
    }
   ],
   "source": [
    "import uuid\n",
    "str(uuid.uuid4())"
   ]
  },
  {
   "cell_type": "markdown",
   "metadata": {},
   "source": [
    "## Web appliction functions"
   ]
  },
  {
   "cell_type": "markdown",
   "metadata": {},
   "source": [
    "Abstract account settings"
   ]
  },
  {
   "cell_type": "code",
   "execution_count": 7,
   "metadata": {},
   "outputs": [],
   "source": [
    "mysql_account = 'webuser'\n",
    "mysql_password = 'thesecret'\n"
   ]
  },
  {
   "cell_type": "markdown",
   "metadata": {},
   "source": [
    "The InsertInitialVisit function creates an entry whenever a user visits the page. It assumes the user doesn't like the page so enters thumbs down for the randomly assinged pageid"
   ]
  },
  {
   "cell_type": "code",
   "execution_count": 8,
   "metadata": {},
   "outputs": [],
   "source": [
    "def InsertInitialVisit(uuid, pageid):\n",
    "    try:\n",
    "        cnx = mysql.connector.connect(user=mysql_account, password=mysql_password, database='ABTesting')\n",
    "        cursor = cnx.cursor()\n",
    "        query = \"INSERT INTO ABTesting.tblFrontPageOptions (uuid, liked, pageid) VALUES (%s,%s,%s);\"\n",
    "        args = (uuid, 0, pageid)\n",
    "        cursor.execute(query, args)  \n",
    "        cursor.close()\n",
    "        cnx.commit()\n",
    "        cnx.close()\n",
    "    except mysql.connector.Error as err:\n",
    "        print(\"Something went wrong: {}\".format(err))\n",
    "\n",
    "\n",
    "InsertInitialVisit(2, 1)\n",
    "        "
   ]
  },
  {
   "cell_type": "markdown",
   "metadata": {},
   "source": [
    "The UpdateVisitWithLike function responds to when a user clicked the thumbs up button and updates the previously entered column with a thumbs up. In order to handle multiple users we pass the user id (uuid) back and forth to update the correct table row."
   ]
  },
  {
   "cell_type": "code",
   "execution_count": 9,
   "metadata": {},
   "outputs": [],
   "source": [
    "def UpdateVisitWithLike(uuid):\n",
    "    try:\n",
    "        cnx = mysql.connector.connect(user=mysql_account, password=mysql_password, database='ABTesting')\n",
    "        cursor = cnx.cursor()\n",
    "        query = \"UPDATE ABTesting.tblFrontPageOptions SET liked = %s WHERE uuid = %s;\"\n",
    "        args = (1, uuid)\n",
    "        cursor.execute(query, args)  \n",
    "        cursor.close()\n",
    "        cnx.commit()\n",
    "        cnx.close()\n",
    "    except mysql.connector.Error as err:\n",
    "        print(\"Something went wrong: {}\".format(err))\n",
    "\n",
    "UpdateVisitWithLike(2)"
   ]
  },
  {
   "cell_type": "markdown",
   "metadata": {},
   "source": [
    "Finally we create a reporting function to report on the total votes and the up and down votes."
   ]
  },
  {
   "cell_type": "code",
   "execution_count": 10,
   "metadata": {},
   "outputs": [],
   "source": [
    "def GetVoteResults():\n",
    "    results = ''\n",
    "    total_votes = 0\n",
    "    total_up_votes = 0\n",
    "    total_up_votes_page_1 = 0\n",
    "    total_up_votes_page_2 = 0\n",
    "    try:\n",
    "        cnx = mysql.connector.connect(user=mysql_account, password=mysql_password, database='ABTesting')\n",
    "        cursor = cnx.cursor()\n",
    "        query = \"SELECT * FROM  ABTesting.tblFrontPageOptions\"\n",
    "        cursor.execute(query)\n",
    "\n",
    "        for (uuid, liked, pageid, time_stamp) in cursor:\n",
    "            total_votes += 1\n",
    "            if liked==1 and pageid==1:\n",
    "                total_up_votes_page_1 += 1\n",
    "            if liked==1 and pageid==2:\n",
    "                total_up_votes_page_2 += 1\n",
    "            if liked == 1:\n",
    "                total_up_votes += 1\n",
    "            results += (\"uuid: {} liked:{} pageid: {} on {:%m/%d/%Y %H:%M:%S}\".format(uuid, liked, pageid, time_stamp)) + \"<br />\"\n",
    "        cursor.close()\n",
    "        cnx.close()\n",
    "    except mysql.connector.Error as err:\n",
    "        print(\"Something went wrong: {}\".format(err))\n",
    "    \n",
    "    return (results, total_votes, total_up_votes, total_up_votes_page_1, total_up_votes_page_2)\n"
   ]
  },
  {
   "cell_type": "code",
   "execution_count": 11,
   "metadata": {},
   "outputs": [],
   "source": [
    "results, total_votes, total_up_votes, total_up_votes_page_1, total_up_votes_page_2 = GetVoteResults()"
   ]
  },
  {
   "cell_type": "code",
   "execution_count": 12,
   "metadata": {},
   "outputs": [
    {
     "name": "stdout",
     "output_type": "stream",
     "text": [
      "total_up_votes_page_1: 2\n"
     ]
    }
   ],
   "source": [
    "print(\"total_up_votes_page_1:\", total_up_votes_page_1)"
   ]
  },
  {
   "cell_type": "code",
   "execution_count": 13,
   "metadata": {},
   "outputs": [
    {
     "name": "stdout",
     "output_type": "stream",
     "text": [
      "total_up_votes_page_2: 1\n"
     ]
    }
   ],
   "source": [
    "print(\"total_up_votes_page_2:\", total_up_votes_page_2)"
   ]
  },
  {
   "cell_type": "code",
   "execution_count": null,
   "metadata": {},
   "outputs": [],
   "source": []
  }
 ],
 "metadata": {
  "kernelspec": {
   "display_name": "Python 3",
   "language": "python",
   "name": "python3"
  },
  "language_info": {
   "codemirror_mode": {
    "name": "ipython",
    "version": 3
   },
   "file_extension": ".py",
   "mimetype": "text/x-python",
   "name": "python",
   "nbconvert_exporter": "python",
   "pygments_lexer": "ipython3",
   "version": "3.6.5"
  }
 },
 "nbformat": 4,
 "nbformat_minor": 2
}
